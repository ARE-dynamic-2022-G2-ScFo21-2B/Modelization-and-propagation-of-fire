{
 "cells": [
  {
   "cell_type": "markdown",
   "id": "b98c9941",
   "metadata": {},
   "source": [
    "## Importation des librairies "
   ]
  },
  {
   "cell_type": "code",
   "execution_count": 1,
   "id": "7d27c5f6",
   "metadata": {
    "scrolled": true
   },
   "outputs": [
    {
     "name": "stdout",
     "output_type": "stream",
     "text": [
      "pygame 2.1.2 (SDL 2.0.18, Python 3.10.2)\n",
      "Hello from the pygame community. https://www.pygame.org/contribute.html\n"
     ]
    }
   ],
   "source": [
    "import matplotlib.pyplot as plt\n",
    "import numpy as np\n",
    "# import pandas as pd\n",
    "from IPython import display\n",
    "import pygame"
   ]
  },
  {
   "cell_type": "code",
   "execution_count": 2,
   "id": "05db46d6",
   "metadata": {
    "scrolled": true
   },
   "outputs": [],
   "source": [
    "# Idée : Propagation du feu dans une forêt\n",
    "# 0 = Terre\n",
    "# 1 = Arbre\n",
    "# 2 = Feu\n",
    "# 3 = Mort"
   ]
  },
  {
   "cell_type": "markdown",
   "id": "8ad15b32",
   "metadata": {},
   "source": [
    "## Corps :"
   ]
  },
  {
   "cell_type": "markdown",
   "id": "532b635d",
   "metadata": {},
   "source": [
    "### Initialiser une forêt de taille n :"
   ]
  },
  {
   "cell_type": "code",
   "execution_count": 3,
   "id": "7f00a34a",
   "metadata": {
    "scrolled": true
   },
   "outputs": [],
   "source": [
    "def create_database(x,y,p):\n",
    "    return np.random.choice([0,1],size=(x,y),p=[1-p,p])"
   ]
  },
  {
   "cell_type": "code",
   "execution_count": 4,
   "id": "d18604f0",
   "metadata": {
    "scrolled": true
   },
   "outputs": [
    {
     "data": {
      "text/plain": [
       "array([[1, 1, 1, 0, 1, 1, 1, 1, 1, 1],\n",
       "       [1, 1, 0, 1, 1, 1, 1, 1, 1, 1],\n",
       "       [1, 1, 1, 1, 1, 0, 1, 1, 1, 1],\n",
       "       [1, 1, 1, 1, 1, 1, 1, 0, 1, 0],\n",
       "       [1, 0, 1, 1, 1, 1, 1, 1, 1, 1],\n",
       "       [1, 1, 1, 1, 1, 0, 1, 1, 1, 1],\n",
       "       [1, 1, 1, 1, 1, 1, 1, 1, 1, 1],\n",
       "       [1, 1, 1, 1, 1, 0, 1, 1, 1, 1],\n",
       "       [1, 1, 1, 1, 1, 0, 1, 1, 1, 1],\n",
       "       [1, 1, 1, 0, 1, 1, 1, 0, 1, 1]])"
      ]
     },
     "execution_count": 4,
     "metadata": {},
     "output_type": "execute_result"
    }
   ],
   "source": [
    "data = create_database(10,10,.9)\n",
    "data\n"
   ]
  },
  {
   "cell_type": "markdown",
   "id": "e8bcd70e",
   "metadata": {},
   "source": [
    "### Afficher une forêt :"
   ]
  },
  {
   "cell_type": "code",
   "execution_count": 5,
   "id": "af95b00b",
   "metadata": {
    "scrolled": true
   },
   "outputs": [],
   "source": [
    "def aff_forest(x,y,forest):\n",
    "    x1,y1 = np.where(forest==1)# Foret x \n",
    "    x2,y2 = np.where(forest==0) # Terre x\n",
    "    x3,y3 = np.where(forest==2) # Feu x\n",
    "    x4,y4 = np.where(forest==3)    \n",
    "    plt.title(\"Propagation du feu dans une forêt\",fontweight=\"bold\",fontname=\"Arial\",fontsize=\"15\")\n",
    "    plt.scatter(x1,y1,c='green',marker='.',s=30)\n",
    "    plt.scatter(x2,y2,c='grey',marker='.',s=30)\n",
    "    plt.scatter(x3,y3,c='red',marker='.',s=30)\n",
    "    plt.scatter(x4,y4,c='black',marker='.',s=30)\n",
    "    return 0"
   ]
  },
  {
   "cell_type": "code",
   "execution_count": 6,
   "id": "e1e7b86d",
   "metadata": {
    "scrolled": true
   },
   "outputs": [],
   "source": [
    "data[5][5]=2"
   ]
  },
  {
   "cell_type": "code",
   "execution_count": 7,
   "id": "053e896e",
   "metadata": {
    "scrolled": true
   },
   "outputs": [
    {
     "data": {
      "text/plain": [
       "0"
      ]
     },
     "execution_count": 7,
     "metadata": {},
     "output_type": "execute_result"
    },
    {
     "data": {
      "image/png": "[encoded data removed]",
      "text/plain": [
       "<Figure size 432x288 with 1 Axes>"
      ]
     },
     "metadata": {
      "needs_background": "light"
     },
     "output_type": "display_data"
    }
   ],
   "source": [
    "aff_forest(100,100,data)"
   ]
  },
  {
   "cell_type": "code",
   "execution_count": 8,
   "id": "d91d5a7e",
   "metadata": {
    "scrolled": true
   },
   "outputs": [
    {
     "data": {
      "text/plain": [
       "array([[1, 1, 1, 0, 1, 1, 1, 1, 1, 1],\n",
       "       [1, 1, 0, 1, 1, 1, 1, 1, 1, 1],\n",
       "       [1, 1, 1, 1, 1, 0, 1, 1, 1, 1],\n",
       "       [1, 1, 1, 1, 1, 1, 1, 0, 1, 0],\n",
       "       [1, 0, 1, 1, 1, 1, 1, 1, 1, 1],\n",
       "       [1, 1, 1, 1, 1, 2, 1, 1, 1, 1],\n",
       "       [1, 1, 1, 1, 1, 1, 1, 1, 1, 1],\n",
       "       [1, 1, 1, 1, 1, 0, 1, 1, 1, 1],\n",
       "       [1, 1, 1, 1, 1, 0, 1, 1, 1, 1],\n",
       "       [1, 1, 1, 0, 1, 1, 1, 0, 1, 1]])"
      ]
     },
     "execution_count": 8,
     "metadata": {},
     "output_type": "execute_result"
    }
   ],
   "source": [
    "data"
   ]
  },
  {
   "cell_type": "markdown",
   "id": "e27aa9e3",
   "metadata": {},
   "source": [
    "### Actualiser la forêt :"
   ]
  },
  {
   "cell_type": "code",
   "execution_count": 9,
   "id": "4c38a567",
   "metadata": {
    "scrolled": true
   },
   "outputs": [],
   "source": [
    "def init_fire_spread(forest):\n",
    "    if(len(np.unique(forest))==2):\n",
    "        x,y=np.where(forest==1)\n",
    "        random_i = np.random.randint(0,len(x),1)\n",
    "        i_x = int(x[random_i])\n",
    "        i_y = int(y[random_i])\n",
    "        forest[i_x][i_y]=2     \n",
    "    return forest"
   ]
  },
  {
   "cell_type": "code",
   "execution_count": 10,
   "id": "e4d8ccde",
   "metadata": {
    "scrolled": true
   },
   "outputs": [
    {
     "data": {
      "text/plain": [
       "array([[1, 1, 1, 0, 1, 1, 1, 1, 1, 1],\n",
       "       [1, 1, 0, 1, 1, 1, 1, 1, 1, 1],\n",
       "       [1, 1, 1, 1, 1, 0, 1, 1, 1, 1],\n",
       "       [1, 1, 1, 1, 1, 1, 1, 0, 1, 0],\n",
       "       [1, 0, 1, 1, 1, 1, 1, 1, 1, 1],\n",
       "       [1, 1, 1, 1, 1, 2, 1, 1, 1, 1],\n",
       "       [1, 1, 1, 1, 1, 1, 1, 1, 1, 1],\n",
       "       [1, 1, 1, 1, 1, 0, 1, 1, 1, 1],\n",
       "       [1, 1, 1, 1, 1, 0, 1, 1, 1, 1],\n",
       "       [1, 1, 1, 0, 1, 1, 1, 0, 1, 1]])"
      ]
     },
     "execution_count": 10,
     "metadata": {},
     "output_type": "execute_result"
    }
   ],
   "source": [
    "init_fire_spread(data)"
   ]
  },
  {
   "cell_type": "code",
   "execution_count": 11,
   "id": "d50eabb2",
   "metadata": {
    "scrolled": true
   },
   "outputs": [],
   "source": [
    "def fire_spreading(forest):\n",
    "    if((len(np.where(forest==2)[0])==0)and(len(np.where(forest==3)[0])==0)):\n",
    "        init_fire_spread(forest)\n",
    "    x,y = np.where(forest==2)\n",
    "    for i in range(len(x)):\n",
    "        if (x[i]<len(forest)-1) and (y[i]<len(forest[0])-1) and (x[i]>0) and (y[i] > 0):\n",
    "            if forest[x[i]+1][y[i]]==1: #Droite\n",
    "                forest[x[i]+1][y[i]]=2 \n",
    "            if forest[x[i]-1][y[i]]==1: #Gauche\n",
    "                forest[x[i]-1][y[i]]=2\n",
    "            if forest[x[i]][y[i]+1]==1: #Haut\n",
    "                forest[x[i]][y[i]+1]=2\n",
    "            if forest[x[i]][y[i]-1]==1: #Bas\n",
    "                forest[x[i]][y[i]-1]=2\n",
    "            forest[x[i]][y[i]]=3\n",
    "        else:\n",
    "            forest[x[i]][y[i]]=3\n",
    "            \n",
    "    if(len(np.where(forest==2)[0])==0):\n",
    "        nb_arbre = len(np.where(forest==3)[0])+len(np.where(forest==1)[0])\n",
    "        nb_arbre_brule = len(np.where(forest==3)[0])\n",
    "        print(\"Nombre d'arbres total : \",nb_arbre,\"\\n Nombre d'arbres brulés : \",nb_arbre_brule,\"\\n Proportion nb_arbre_brule/nb_arbre : \",(nb_arbre_brule/nb_arbre)*100,\"%\")\n",
    "        return 0"
   ]
  },
  {
   "cell_type": "code",
   "execution_count": 12,
   "id": "f62066d6",
   "metadata": {
    "scrolled": true
   },
   "outputs": [],
   "source": [
    "fire_spreading(data)"
   ]
  },
  {
   "cell_type": "markdown",
   "id": "efe356b9",
   "metadata": {},
   "source": [
    "### Simuler la propagation :"
   ]
  },
  {
   "cell_type": "code",
   "execution_count": 13,
   "id": "aa63fbab",
   "metadata": {
    "scrolled": true
   },
   "outputs": [],
   "source": [
    "def launch(x,y,p):\n",
    "    forest = create_database(x,y,p)\n",
    "    print(\"Pourcentage d'arbre : \",p*100,\"%\")\n",
    "    while fire_spreading(forest)!=0:\n",
    "        init_fire_spread(forest)\n",
    "        aff_forest(x,y,forest)\n",
    "        plt.pause(0.01)\n",
    "        display.clear_output(wait=True)\n",
    "    print(\"Pourcentage d'arbre : \",p*100,\"%\")\n",
    "    return aff_forest(x,y,forest)"
   ]
  },
  {
   "cell_type": "code",
   "execution_count": 18,
   "id": "c99363ef",
   "metadata": {
    "scrolled": false
   },
   "outputs": [
    {
     "name": "stdout",
     "output_type": "stream",
     "text": [
      "Nombre d'arbres total :  1987 \n",
      " Nombre d'arbres brulés :  1945 \n",
      " Proportion nb_arbre_brule/nb_arbre :  97.88626069451435 %\n",
      "Pourcentage d'arbre :  80.0 %\n"
     ]
    },
    {
     "data": {
      "text/plain": [
       "0"
      ]
     },
     "execution_count": 18,
     "metadata": {},
     "output_type": "execute_result"
    },
    {
     "data": {
      "image/png": "[encoded data removed]",
      "text/plain": [
       "<Figure size 432x288 with 1 Axes>"
      ]
     },
     "metadata": {
      "needs_background": "light"
     },
     "output_type": "display_data"
    }
   ],
   "source": [
    "launch(50,50,.8)"
   ]
  },
  {
   "cell_type": "code",
   "execution_count": 20,
   "id": "31542fb9",
   "metadata": {},
   "outputs": [],
   "source": [
    "def draw(data):\n",
    "    x=0\n",
    "    y=0\n",
    "    unit=500/len(data)\n",
    "    for i in range(len(data)):\n",
    "        for j in range(len(data[0])):\n",
    "            if(data[i][j]==1):\n",
    "                pygame.draw.rect(screen,(71, 252, 80), pygame.Rect(x, y, x+unit, y+unit))\n",
    "                x+=unit\n",
    "            if(data[i][j]==0):\n",
    "                pygame.draw.rect(screen,(247, 213, 143), pygame.Rect(x, y, x+unit, y+unit))\n",
    "                x+=unit  \n",
    "            if(data[i][j]==2):\n",
    "                pygame.draw.rect(screen,(255, 64, 67), pygame.Rect(x, y, x+unit, y+unit))\n",
    "                x+=unit\n",
    "            if(data[i][j]==3):\n",
    "                pygame.draw.rect(screen,(33, 13, 4), pygame.Rect(x, y, x+unit, y+unit))\n",
    "                x+=unit\n",
    "        y+=unit\n",
    "        x=0\n",
    "\n",
    "    pygame.display.flip()"
   ]
  },
  {
   "cell_type": "code",
   "execution_count": null,
   "id": "887ffced",
   "metadata": {
    "scrolled": true
   },
   "outputs": [],
   "source": [
    "pygame.init()\n",
    "\n",
    "screen = pygame.display.set_mode((500, 500))\n",
    "screen.fill(\"white\")\n",
    "pygame.display.set_caption(\"Propagation d'un feu de forêt\")\n",
    "\n",
    "data = create_database(50,50,.9)\n",
    "\n",
    "while fire_spreading(data)!=0:\n",
    "    for event in pygame.event.get():\n",
    "        if event.type == pygame.QUIT:\n",
    "           pygame.quit()\n",
    "    init_fire_spread(data)\n",
    "    draw(data)\n",
    "    plt.pause(0.1)\n",
    "    display.clear_output(wait=True)\n",
    "pygame.quit()"
   ]
  },
  {
   "cell_type": "code",
   "execution_count": null,
   "id": "e8a174dd",
   "metadata": {},
   "outputs": [],
   "source": []
  }
 ],
 "metadata": {
  "kernelspec": {
   "display_name": "Python 3 (ipykernel)",
   "language": "python",
   "name": "python3"
  },
  "language_info": {
   "codemirror_mode": {
    "name": "ipython",
    "version": 3
   },
   "file_extension": ".py",
   "mimetype": "text/x-python",
   "name": "python",
   "nbconvert_exporter": "python",
   "pygments_lexer": "ipython3",
   "version": "3.10.2"
  }
 },
 "nbformat": 4,
 "nbformat_minor": 5
}
