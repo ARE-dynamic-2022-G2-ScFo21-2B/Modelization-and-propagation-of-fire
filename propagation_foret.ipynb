{
 "cells": [
  {
   "cell_type": "markdown",
   "metadata": {},
   "source": [
    "## Importation des librairies "
   ]
  },
  {
   "cell_type": "code",
   "execution_count": 77,
   "metadata": {},
   "outputs": [],
   "source": [
    "import matplotlib.pyplot as plt\n",
    "import numpy as np\n",
    "import pandas as pd\n",
    "from IPython import display"
   ]
  },
  {
   "cell_type": "code",
   "execution_count": 78,
   "metadata": {},
   "outputs": [],
   "source": [
    "# Idée : Propagation du feu dans une forêt\n",
    "# 0 = Terre\n",
    "# 1 = Arbre\n",
    "# 2 = Feu\n",
    "# 3 = Mort"
   ]
  },
  {
   "cell_type": "markdown",
   "metadata": {},
   "source": [
    "## Corps :"
   ]
  },
  {
   "cell_type": "markdown",
   "metadata": {},
   "source": [
    "### Initialiser une forêt de taille n :"
   ]
  },
  {
   "cell_type": "code",
   "execution_count": 300,
   "metadata": {},
   "outputs": [],
   "source": [
    "def create_database(x,y):\n",
    "    return np.random.choice([0,1],size=(x,y),p=[.2,.8])"
   ]
  },
  {
   "cell_type": "code",
   "execution_count": 260,
   "metadata": {},
   "outputs": [
    {
     "data": {
      "text/plain": [
       "array([[1, 0, 0, 0, 0, 0, 1, 1, 0, 1],\n",
       "       [0, 1, 0, 1, 1, 1, 0, 0, 1, 0],\n",
       "       [1, 1, 0, 0, 1, 0, 0, 1, 0, 1],\n",
       "       [0, 0, 0, 0, 1, 0, 1, 1, 1, 1],\n",
       "       [1, 0, 0, 1, 1, 1, 1, 1, 1, 0],\n",
       "       [0, 0, 1, 0, 1, 1, 1, 0, 1, 1],\n",
       "       [1, 0, 1, 0, 1, 0, 1, 0, 1, 0],\n",
       "       [1, 0, 1, 0, 1, 0, 1, 1, 0, 0],\n",
       "       [1, 1, 1, 1, 1, 1, 0, 1, 1, 0],\n",
       "       [1, 1, 0, 1, 0, 0, 0, 0, 1, 0]])"
      ]
     },
     "execution_count": 260,
     "metadata": {},
     "output_type": "execute_result"
    }
   ],
   "source": [
    "data = create_database(10,10)\n",
    "data\n"
   ]
  },
  {
   "cell_type": "code",
   "execution_count": 168,
   "metadata": {},
   "outputs": [
    {
     "ename": "SyntaxError",
     "evalue": "invalid syntax (<ipython-input-168-c735daa3d33e>, line 4)",
     "output_type": "error",
     "traceback": [
      "\u001b[0;36m  File \u001b[0;32m\"<ipython-input-168-c735daa3d33e>\"\u001b[0;36m, line \u001b[0;32m4\u001b[0m\n\u001b[0;31m    for i in fores\u001b[0m\n\u001b[0m                  ^\u001b[0m\n\u001b[0;31mSyntaxError\u001b[0m\u001b[0;31m:\u001b[0m invalid syntax\n"
     ]
    }
   ],
   "source": [
    "def get_pos(forest):\n",
    "    set1 = set()\n",
    "    set2 = set()\n",
    "    for i in fores"
   ]
  },
  {
   "cell_type": "markdown",
   "metadata": {},
   "source": [
    "### Afficher une forêt :"
   ]
  },
  {
   "cell_type": "code",
   "execution_count": 239,
   "metadata": {},
   "outputs": [],
   "source": [
    "def aff_forest(x,y,forest):\n",
    "    x1,y1 = np.where(forest==1)# Foret x \n",
    "    x2,y2 = np.where(forest==0) # Terre x\n",
    "    x3,y3 = np.where(forest==2) # Feu x\n",
    "    x4,y4 = np.where(forest==3)    \n",
    "    plt.title(\"Propagation du feu dans une forêt\",fontweight=\"bold\",fontname=\"Arial\",fontsize=\"15\")\n",
    "    plt.scatter(x1,y1,c='green',marker='.',s=100)\n",
    "    plt.scatter(x2,y2,c='grey',marker='.',s=100)\n",
    "    plt.scatter(x3,y3,c='red',marker='.',s=100)\n",
    "    plt.scatter(x4,y4,c='black',marker='.',s=100)\n",
    "    return 0"
   ]
  },
  {
   "cell_type": "code",
   "execution_count": 262,
   "metadata": {},
   "outputs": [],
   "source": [
    "data[5][5]=2"
   ]
  },
  {
   "cell_type": "code",
   "execution_count": 288,
   "metadata": {},
   "outputs": [
    {
     "data": {
      "text/plain": [
       "0"
      ]
     },
     "execution_count": 288,
     "metadata": {},
     "output_type": "execute_result"
    },
    {
     "data": {
      "image/png": "[encoded data removed]",
      "text/plain": [
       "<Figure size 432x288 with 1 Axes>"
      ]
     },
     "metadata": {
      "needs_background": "light"
     },
     "output_type": "display_data"
    }
   ],
   "source": [
    "aff_forest(100,100,data)"
   ]
  },
  {
   "cell_type": "code",
   "execution_count": 277,
   "metadata": {},
   "outputs": [
    {
     "data": {
      "text/plain": [
       "array([[1, 0, 0, 0, 0, 0, 1, 1, 0, 1],\n",
       "       [0, 1, 0, 3, 3, 3, 0, 0, 1, 0],\n",
       "       [1, 1, 0, 0, 3, 0, 0, 3, 0, 2],\n",
       "       [0, 0, 0, 0, 3, 0, 3, 3, 3, 2],\n",
       "       [1, 0, 0, 3, 3, 3, 3, 3, 3, 0],\n",
       "       [0, 0, 1, 0, 3, 3, 3, 0, 3, 2],\n",
       "       [1, 0, 1, 0, 3, 0, 3, 0, 2, 0],\n",
       "       [1, 0, 1, 0, 3, 0, 3, 3, 0, 0],\n",
       "       [1, 1, 2, 3, 3, 3, 0, 3, 2, 0],\n",
       "       [1, 1, 0, 2, 0, 0, 0, 0, 1, 0]])"
      ]
     },
     "execution_count": 277,
     "metadata": {},
     "output_type": "execute_result"
    }
   ],
   "source": [
    "data"
   ]
  },
  {
   "cell_type": "markdown",
   "metadata": {},
   "source": [
    "### Actualiser la forêt :"
   ]
  },
  {
   "cell_type": "code",
   "execution_count": 93,
   "metadata": {},
   "outputs": [],
   "source": [
    "def init_fire_spread(forest):\n",
    "    if(len(np.unique(forest))==2):\n",
    "        x,y=np.where(forest==1)\n",
    "        random_i = np.random.randint(0,len(x),1)\n",
    "        i_x = int(x[random_i])\n",
    "        i_y = int(y[random_i])\n",
    "        forest[i_x][i_y]=2     \n",
    "    return forest"
   ]
  },
  {
   "cell_type": "code",
   "execution_count": 192,
   "metadata": {},
   "outputs": [
    {
     "data": {
      "text/plain": [
       "array([[0, 0, 0, ..., 1, 1, 1],\n",
       "       [0, 1, 0, ..., 1, 0, 0],\n",
       "       [1, 1, 0, ..., 1, 1, 0],\n",
       "       ...,\n",
       "       [0, 0, 1, ..., 0, 1, 0],\n",
       "       [0, 0, 0, ..., 0, 0, 0],\n",
       "       [0, 0, 0, ..., 0, 1, 0]])"
      ]
     },
     "execution_count": 192,
     "metadata": {},
     "output_type": "execute_result"
    }
   ],
   "source": [
    "init_fire_spread(data)"
   ]
  },
  {
   "cell_type": "code",
   "execution_count": 304,
   "metadata": {},
   "outputs": [],
   "source": [
    "def fire_spreading(forest):\n",
    "    x,y = np.where(forest==2)\n",
    "    for i in range(len(x)):\n",
    "        if (x[i]<len(forest)-1) and (y[i]<len(forest[0])-1) and (x[i]>0) and (y[i] > 0):\n",
    "            if forest[x[i]+1][y[i]]==1:\n",
    "                forest[x[i]+1][y[i]]=2\n",
    "            if forest[x[i]-1][y[i]]==1:\n",
    "                forest[x[i]-1][y[i]]=2\n",
    "            if forest[x[i]][y[i]+1]==1:\n",
    "                forest[x[i]][y[i]+1]=2\n",
    "            if forest[x[i]][y[i]-1]==1:\n",
    "                forest[x[i]][y[i]-1]=2\n",
    "            forest[x[i]][y[i]]=3\n",
    "        else:\n",
    "            forest[x[i]][y[i]]=3\n",
    "            return 0"
   ]
  },
  {
   "cell_type": "code",
   "execution_count": 287,
   "metadata": {},
   "outputs": [
    {
     "name": "stdout",
     "output_type": "stream",
     "text": [
      "[2 3 5 6 8 8 9] [9 9 9 8 2 8 3]\n"
     ]
    },
    {
     "data": {
      "text/plain": [
       "0"
      ]
     },
     "execution_count": 287,
     "metadata": {},
     "output_type": "execute_result"
    }
   ],
   "source": [
    "fire_spreading(data)"
   ]
  },
  {
   "cell_type": "markdown",
   "metadata": {},
   "source": [
    "### Simuler la propagation :"
   ]
  },
  {
   "cell_type": "code",
   "execution_count": 308,
   "metadata": {},
   "outputs": [],
   "source": [
    "def launch(x,y):\n",
    "    forest = pd.DataFrame(create_database(x,y))\n",
    "    while fire_spreading(forest)!=0:\n",
    "        init_fire_spread(forest)\n",
    "        fire_spreading(forest)\n",
    "        aff_forest(x,y,forest)\n",
    "        plt.pause(0.01)\n",
    "        display.clear_output(wait=True)\n",
    "    return aff_forest(x,y,forest)"
   ]
  },
  {
   "cell_type": "code",
   "execution_count": 328,
   "metadata": {},
   "outputs": [
    {
     "data": {
      "text/plain": [
       "0"
      ]
     },
     "execution_count": 328,
     "metadata": {},
     "output_type": "execute_result"
    },
    {
     "data": {
      "image/png": "[encoded data removed]",
      "text/plain": [
       "<Figure size 432x288 with 1 Axes>"
      ]
     },
     "metadata": {
      "needs_background": "light"
     },
     "output_type": "display_data"
    }
   ],
   "source": [
    "launch(50,50)"
   ]
  },
  {
   "cell_type": "code",
   "execution_count": null,
   "metadata": {},
   "outputs": [],
   "source": []
  },
  {
   "cell_type": "code",
   "execution_count": null,
   "metadata": {},
   "outputs": [],
   "source": []
  }
 ],
 "metadata": {
  "kernelspec": {
   "display_name": "Python 3",
   "language": "python",
   "name": "python3"
  },
  "language_info": {
   "codemirror_mode": {
    "name": "ipython",
    "version": 3
   },
   "file_extension": ".py",
   "mimetype": "text/x-python",
   "name": "python",
   "nbconvert_exporter": "python",
   "pygments_lexer": "ipython3",
   "version": "3.7.3"
  }
 },
 "nbformat": 4,
 "nbformat_minor": 5
}
