{
 "cells": [
  {
   "cell_type": "markdown",
   "metadata": {},
   "source": [
    "## Importation des librairies "
   ]
  },
  {
   "cell_type": "code",
   "execution_count": null,
   "metadata": {
    "scrolled": true
   },
   "outputs": [],
   "source": [
    "import matplotlib.pyplot as plt\n",
    "import numpy as np\n",
    "# import pandas as pd\n",
    "from IPython import display\n",
    "import pygame"
   ]
  },
  {
   "cell_type": "code",
   "execution_count": null,
   "metadata": {
    "scrolled": true
   },
   "outputs": [],
   "source": [
    "# Idée : Propagation du feu dans une forêt\n",
    "# 0 = Terre\n",
    "# 1 = Arbre\n",
    "# 2 = Feu\n",
    "# 3 = Mort"
   ]
  },
  {
   "cell_type": "markdown",
   "metadata": {},
   "source": [
    "## Corps :"
   ]
  },
  {
   "cell_type": "markdown",
   "metadata": {},
   "source": [
    "### Initialiser une forêt de taille n :"
   ]
  },
  {
   "cell_type": "code",
   "execution_count": null,
   "metadata": {
    "scrolled": true
   },
   "outputs": [],
   "source": [
    "def create_database(x,y,p):\n",
    "    return np.random.choice([0,1],size=(x,y),p=[1-p,p])"
   ]
  },
  {
   "cell_type": "code",
   "execution_count": null,
   "metadata": {
    "scrolled": true
   },
   "outputs": [],
   "source": [
    "data = create_database(10,10,1)\n",
    "data\n"
   ]
  },
  {
   "cell_type": "markdown",
   "metadata": {},
   "source": [
    "### Afficher une forêt :"
   ]
  },
  {
   "cell_type": "code",
   "execution_count": null,
   "metadata": {
    "scrolled": true
   },
   "outputs": [],
   "source": [
    "def aff_forest(x,y,forest):\n",
    "    x1,y1 = np.where(forest==1)# Foret x \n",
    "    x2,y2 = np.where(forest==0) # Terre x\n",
    "    x3,y3 = np.where(forest==2) # Feu x\n",
    "    x4,y4 = np.where(forest==3)    \n",
    "    plt.title(\"Propagation du feu dans une forêt\",fontweight=\"bold\",fontname=\"Arial\",fontsize=\"15\")\n",
    "    plt.scatter(x1,y1,c='green',marker='.',s=30)\n",
    "    plt.scatter(x2,y2,c='grey',marker='.',s=30)\n",
    "    plt.scatter(x3,y3,c='red',marker='.',s=30)\n",
    "    plt.scatter(x4,y4,c='black',marker='.',s=30)\n",
    "    return 0"
   ]
  },
  {
   "cell_type": "code",
   "execution_count": null,
   "metadata": {
    "scrolled": true
   },
   "outputs": [],
   "source": [
    "data[5][5]=2"
   ]
  },
  {
   "cell_type": "code",
   "execution_count": null,
   "metadata": {
    "scrolled": true
   },
   "outputs": [],
   "source": [
    "aff_forest(100,100,data)"
   ]
  },
  {
   "cell_type": "code",
   "execution_count": null,
   "metadata": {
    "scrolled": true
   },
   "outputs": [],
   "source": [
    "data"
   ]
  },
  {
   "cell_type": "markdown",
   "metadata": {},
   "source": [
    "### Actualiser la forêt :"
   ]
  },
  {
   "cell_type": "code",
   "execution_count": null,
   "metadata": {
    "scrolled": true
   },
   "outputs": [],
   "source": [
    "def init_fire_spread(forest):\n",
    "    if(len(np.unique(forest))==2):\n",
    "        x,y=np.where(forest==1)\n",
    "        random_i = np.random.randint(0,len(x),1)\n",
    "        i_x = int(x[random_i])\n",
    "        i_y = int(y[random_i])\n",
    "        forest[i_x][i_y]=2\n",
    "    elif(np.unique(forest)==[1]):\n",
    "        x,y=np.where(forest==1)\n",
    "        random_i = np.random.randint(0,len(x),1)\n",
    "        i_x = int(x[random_i])\n",
    "        i_y = int(y[random_i])\n",
    "        forest[i_x][i_y]=2        \n",
    "    return forest"
   ]
  },
  {
   "cell_type": "code",
   "execution_count": null,
   "metadata": {
    "scrolled": true
   },
   "outputs": [],
   "source": [
    "init_fire_spread(data)"
   ]
  },
  {
   "cell_type": "code",
   "execution_count": 39,
   "metadata": {
    "scrolled": true
   },
   "outputs": [],
   "source": [
    "def fire_spreading(forest):\n",
    "    if((len(np.where(forest==2)[0])==0)and(len(np.where(forest==3)[0])==0)):\n",
    "        init_fire_spread(forest)\n",
    "    x,y = np.where(forest==2)\n",
    "    for i in range(len(x)):\n",
    "        if (x[i]<len(forest)-1) and (y[i]<len(forest[0])-1) and (x[i]>0) and (y[i] > 0):\n",
    "            if forest[x[i]+1][y[i]]==1: #Droite\n",
    "                forest[x[i]+1][y[i]]=2 \n",
    "            if forest[x[i]-1][y[i]]==1: #Gauche\n",
    "                forest[x[i]-1][y[i]]=2\n",
    "            if forest[x[i]][y[i]+1]==1: #Haut\n",
    "                forest[x[i]][y[i]+1]=2\n",
    "            if forest[x[i]][y[i]-1]==1: #Bas\n",
    "                forest[x[i]][y[i]-1]=2\n",
    "            forest[x[i]][y[i]]=3\n",
    "        else:\n",
    "            forest[x[i]][y[i]]=3\n",
    "            \n",
    "    if(len(np.where(forest==2)[0])==0):\n",
    "        nb_arbre = len(np.where(forest==3)[0])+len(np.where(forest==1)[0])\n",
    "        nb_arbre_brule = len(np.where(forest==3)[0])\n",
    "        print(\"Nombre d'arbres total : \",nb_arbre,\"\\n Nombre d'arbres brulés : \",nb_arbre_brule,\"\\n Proportion nb_arbre_brule/nb_arbre : \",(nb_arbre_brule/nb_arbre)*100,\"%\")\n",
    "        return 0"
   ]
  },
  {
   "cell_type": "code",
   "execution_count": 40,
   "metadata": {
    "scrolled": true
   },
   "outputs": [],
   "source": [
    "fire_spreading(data)"
   ]
  },
  {
   "cell_type": "markdown",
   "metadata": {},
   "source": [
    "### Simuler la propagation :"
   ]
  },
  {
   "cell_type": "code",
   "execution_count": 41,
   "metadata": {
    "scrolled": true
   },
   "outputs": [],
   "source": [
    "def launch(x,y,p):\n",
    "    forest = create_database(x,y,p)\n",
    "    print(\"Pourcentage d'arbre : \",p*100,\"%\")\n",
    "    while fire_spreading(forest)!=0:\n",
    "        init_fire_spread(forest)\n",
    "        aff_forest(x,y,forest)\n",
    "        plt.pause(0.01)\n",
    "        display.clear_output(wait=True)\n",
    "    print(\"Pourcentage d'arbre : \",p*100,\"%\")\n",
    "    return aff_forest(x,y,forest)"
   ]
  },
  {
   "cell_type": "code",
   "execution_count": null,
   "metadata": {
    "scrolled": false
   },
   "outputs": [
    {
     "name": "stdout",
     "output_type": "stream",
     "text": [
      "Nombre d'arbres total :  2255 \n",
      " Nombre d'arbres brulés :  2228 \n",
      " Proportion nb_arbre_brule/nb_arbre :  98.80266075388026 %\n"
     ]
    },
    {
     "data": {
      "image/png": "[encoded data removed]",
      "text/plain": [
       "<Figure size 432x288 with 1 Axes>"
      ]
     },
     "metadata": {
      "needs_background": "light"
     },
     "output_type": "display_data"
    }
   ],
   "source": [
    "launch(50,50,.9)"
   ]
  },
  {
   "cell_type": "code",
   "execution_count": 42,
   "metadata": {},
   "outputs": [],
   "source": [
    "def draw(screen,data):\n",
    "    x=0\n",
    "    y=0\n",
    "    unit=500/len(data)\n",
    "    for i in range(len(data)):\n",
    "        for j in range(len(data[0])):\n",
    "            if(data[i][j]==1):\n",
    "                pygame.draw.rect(screen,(71, 252, 80), pygame.Rect(x, y, x+unit, y+unit))\n",
    "                x+=unit\n",
    "            if(data[i][j]==0):\n",
    "                pygame.draw.rect(screen,(247, 213, 143), pygame.Rect(x, y, x+unit, y+unit))\n",
    "                x+=unit  \n",
    "            if(data[i][j]==2):\n",
    "                pygame.draw.rect(screen,(255, 64, 67), pygame.Rect(x, y, x+unit, y+unit))\n",
    "                x+=unit\n",
    "            if(data[i][j]==3):\n",
    "                pygame.draw.rect(screen,(33, 13, 4), pygame.Rect(x, y, x+unit, y+unit))\n",
    "                x+=unit\n",
    "        y+=unit\n",
    "        x=0\n",
    "\n",
    "    pygame.display.flip()"
   ]
  },
  {
   "cell_type": "code",
   "execution_count": 16,
   "metadata": {
    "scrolled": true
   },
   "outputs": [
    {
     "name": "stdout",
     "output_type": "stream",
     "text": [
      "Nombre d'arbres total :  2252 \n",
      " Nombre d'arbres brulés :  2233 \n",
      " Proportion nb_arbre_brule/nb_arbre :  99.1563055062167 %\n"
     ]
    }
   ],
   "source": [
    "pygame.init()\n",
    "\n",
    "screen = pygame.display.set_mode((500, 500))\n",
    "screen.fill(\"white\")\n",
    "pygame.display.set_caption(\"Propagation d'un feu de forêt\")\n",
    "\n",
    "data = create_database(50,50,.9)\n",
    "\n",
    "while fire_spreading(data)!=0:\n",
    "    for event in pygame.event.get():\n",
    "        if event.type == pygame.QUIT:\n",
    "           pygame.quit()\n",
    "    init_fire_spread(data)\n",
    "    draw(screen,data)\n",
    "    plt.pause(0.1)\n",
    "    display.clear_output(wait=True)\n",
    "pygame.quit()"
   ]
  },
  {
   "cell_type": "code",
   "execution_count": 43,
   "metadata": {},
   "outputs": [],
   "source": [
    "def humidite(forest, tx):\n",
    "    if((len(np.where(forest==2)[0])==0)and(len(np.where(forest==3)[0])==0)):\n",
    "        init_fire_spread(forest)\n",
    "    x,y = np.where(forest==2)\n",
    "    for i in range(len(x)):\n",
    "        reussite = np.random.choice([0,1,],size=1,p=[tx,1-tx])\n",
    "        if (x[i]<len(forest)-1) and (y[i]<len(forest[0])-1) and (x[i]>0) and (y[i] > 0) and reussite==1:\n",
    "            \n",
    "            if forest[x[i]+1][y[i]]==1: #Droite\n",
    "                forest[x[i]+1][y[i]]=2 \n",
    "            if forest[x[i]-1][y[i]]==1: #Gauche\n",
    "                forest[x[i]-1][y[i]]=2\n",
    "            if forest[x[i]][y[i]+1]==1: #Haut\n",
    "                forest[x[i]][y[i]+1]=2\n",
    "            if forest[x[i]][y[i]-1]==1: #Bas\n",
    "                forest[x[i]][y[i]-1]=2\n",
    "            forest[x[i]][y[i]]=3\n",
    "        else:\n",
    "            forest[x[i]][y[i]]=3\n",
    "            \n",
    "    if(len(np.where(forest==2)[0])==0):\n",
    "        nb_arbre = len(np.where(forest==3)[0])+len(np.where(forest==1)[0])\n",
    "        nb_arbre_brule = len(np.where(forest==3)[0])\n",
    "        print(\"Nombre d'arbres total : \",nb_arbre,\"\\n Nombre d'arbres brulés : \",nb_arbre_brule,\"\\n Proportion nb_arbre_brule/nb_arbre : \",(nb_arbre_brule/nb_arbre)*100,\"%\")\n",
    "        return 0"
   ]
  },
  {
   "cell_type": "code",
   "execution_count": 44,
   "metadata": {},
   "outputs": [],
   "source": [
    "def vent(forest):\n",
    "    if((len(np.where(forest==2)[0])==0)and(len(np.where(forest==3)[0])==0)):\n",
    "        init_fire_spread(forest)\n",
    "    x,y = np.where(forest==2)\n",
    "    for i in range(len(x)):\n",
    "        if (x[i]<len(forest)-1) and (y[i]<len(forest[0])-1) and (x[i]>0) and (y[i] > 0):\n",
    "            reussite_direction = np.random.choice([0,1,],size=1,p=[0.1,0.9])\n",
    "            reussite_direction_inverse = np.random.choice([0,1,],size=1,p=[0.5,0.5])\n",
    "            reussite_cote = np.random.choice([0,1,],size=1,p=[0.9,0.1])\n",
    "            print(\"Reussite 1 : \",reussite_direction, \" Reussite 2 : \", reussite_cote, \" Reussite 3 : \",reussite_direction_inverse)\n",
    "            if forest[x[i]+1][y[i]]==1 and reussite_cote==1: #Droite\n",
    "                forest[x[i]+1][y[i]]=2 \n",
    "            if forest[x[i]-1][y[i]]==1 and reussite_cote==1: #Gauche\n",
    "                forest[x[i]-1][y[i]]=2\n",
    "            if forest[x[i]][y[i]+1]==1 and reussite_direction==1: #Haut\n",
    "                forest[x[i]][y[i]+1]=2\n",
    "            if forest[x[i]][y[i]-1]==1 and reussite_direction_inverse==1: #Bas\n",
    "                forest[x[i]][y[i]-1]=2\n",
    "            if forest[x[i]+1][y[i]+1]==1 and reussite_direction==1: # Haut-droite\n",
    "                forest[x[i]+1][y[i]+1]=2\n",
    "            if forest[x[i]-1][y[i]+1]==1 and reussite_direction==1: # Haut-gauche\n",
    "                forest[x[i]-1][y[i]+1]=2\n",
    "            forest[x[i]][y[i]]=3\n",
    "        else:\n",
    "            forest[x[i]][y[i]]=3\n",
    "            \n",
    "    if(len(np.where(forest==2)[0])==0):\n",
    "        nb_arbre = len(np.where(forest==3)[0])+len(np.where(forest==1)[0])\n",
    "        nb_arbre_brule = len(np.where(forest==3)[0])\n",
    "        print(\"Nombre d'arbres total : \",nb_arbre,\"\\n Nombre d'arbres brulés : \",nb_arbre_brule,\"\\n Proportion nb_arbre_brule/nb_arbre : \",(nb_arbre_brule/nb_arbre)*100,\"%\")\n",
    "        return 0"
   ]
  },
  {
   "cell_type": "code",
   "execution_count": 29,
   "metadata": {},
   "outputs": [
    {
     "data": {
      "text/plain": [
       "[array([1]),\n",
       " array([1]),\n",
       " array([1]),\n",
       " array([1]),\n",
       " array([1]),\n",
       " array([1]),\n",
       " array([1]),\n",
       " array([1]),\n",
       " array([1]),\n",
       " array([1])]"
      ]
     },
     "execution_count": 29,
     "metadata": {},
     "output_type": "execute_result"
    }
   ],
   "source": [
    "reussite = [np.random.choice([0,1,],size=1,p=[.1,.9]) for i in range(10)]\n",
    "reussite"
   ]
  },
  {
   "cell_type": "code",
   "execution_count": 20,
   "metadata": {},
   "outputs": [
    {
     "name": "stdout",
     "output_type": "stream",
     "text": [
      "Nombre d'arbres total :  2238 \n",
      " Nombre d'arbres brulés :  1 \n",
      " Proportion nb_arbre_brule/nb_arbre :  0.044682752457551385 %\n"
     ]
    }
   ],
   "source": [
    "pygame.init()\n",
    "\n",
    "screen = pygame.display.set_mode((500, 500))\n",
    "screen.fill(\"white\")\n",
    "pygame.display.set_caption(\"Propagation d'un feu de forêt\")\n",
    "\n",
    "data = create_database(50,50,.9)\n",
    "\n",
    "while humidite(data,.3)!=0:\n",
    "    for event in pygame.event.get():\n",
    "        if event.type == pygame.QUIT:\n",
    "           pygame.quit()\n",
    "    init_fire_spread(data)\n",
    "    draw(screen,data)\n",
    "    plt.pause(0.1)\n",
    "    display.clear_output(wait=True)\n",
    "pygame.quit()"
   ]
  },
  {
   "cell_type": "code",
   "execution_count": 30,
   "metadata": {},
   "outputs": [
    {
     "name": "stdout",
     "output_type": "stream",
     "text": [
      "Reussite 1 :  [1]  Reussite 2 :  [0]  Reussite 3 :  [1]\n",
      "Reussite 1 :  [0]  Reussite 2 :  [0]  Reussite 3 :  [1]\n",
      "Nombre d'arbres total :  2259 \n",
      " Nombre d'arbres brulés :  1186 \n",
      " Proportion nb_arbre_brule/nb_arbre :  52.501106684373624 %\n"
     ]
    }
   ],
   "source": [
    "pygame.init()\n",
    "\n",
    "screen = pygame.display.set_mode((500, 500))\n",
    "screen.fill(\"white\")\n",
    "pygame.display.set_caption(\"Propagation d'un feu de forêt\")\n",
    "\n",
    "data = create_database(50,50,.9)\n",
    "\n",
    "while vent(data)!=0:\n",
    "    for event in pygame.event.get():\n",
    "        if event.type == pygame.QUIT:\n",
    "           pygame.quit()\n",
    "    init_fire_spread(data)\n",
    "    draw(screen,data)\n",
    "    plt.pause(0.1)\n",
    "    display.clear_output(wait=True)\n",
    "pygame.quit()"
   ]
  },
  {
   "cell_type": "code",
   "execution_count": 61,
   "metadata": {},
   "outputs": [],
   "source": [
    "def humidite2(forest, tx):\n",
    "    if((len(np.where(forest==2)[0])==0)and(len(np.where(forest==3)[0])==0)):\n",
    "        init_fire_spread(forest)\n",
    "    x,y = np.where(forest==2)\n",
    "    for i in range(len(x)):\n",
    "        reussite = np.random.choice([0,1,],size=1,p=[tx-0.2,1-tx+0.2])\n",
    "        if (x[i]<len(forest)-1) and (y[i]<len(forest[0])-1) and (x[i]>0) and (y[i] > 0) and reussite==1:\n",
    "            \n",
    "            if forest[x[i]+1][y[i]]==1: #Droite\n",
    "                forest[x[i]+1][y[i]]=2 \n",
    "            if forest[x[i]-1][y[i]]==1: #Gauche\n",
    "                forest[x[i]-1][y[i]]=2\n",
    "            if forest[x[i]][y[i]+1]==1: #Haut\n",
    "                forest[x[i]][y[i]+1]=2\n",
    "            if forest[x[i]][y[i]-1]==1: #Bas\n",
    "                forest[x[i]][y[i]-1]=2\n",
    "            forest[x[i]][y[i]]=3\n",
    "        else:\n",
    "            forest[x[i]][y[i]]=3\n",
    "            \n",
    "    if(len(np.where(forest==2)[0])==0):\n",
    "        nb_arbre = len(np.where(forest==3)[0])+len(np.where(forest==1)[0])\n",
    "        nb_arbre_brule = len(np.where(forest==3)[0])\n",
    "        tx = (nb_arbre_brule/nb_arbre)\n",
    "    \n",
    "        return (nb_arbre,nb_arbre_brule,tx)"
   ]
  },
  {
   "cell_type": "code",
   "execution_count": 48,
   "metadata": {},
   "outputs": [],
   "source": [
    "def simulation_humidite(nb_arbre,tx_foret,tx_humide):\n",
    "    pygame.init()\n",
    "    screen = pygame.display.set_mode((500, 500))\n",
    "    screen.fill(\"white\")\n",
    "    pygame.display.set_caption(\"Propagation d'un feu de forêt\") \n",
    "    \n",
    "    data = create_database(nb_arbre,nb_arbre,tx_foret)\n",
    "    print(str(humidite2(data,tx_humide)))\n",
    "    \n",
    "    while str(humidite2(data,tx_humide))=='None':\n",
    "        for event in pygame.event.get():\n",
    "            if event.type == pygame.QUIT:\n",
    "               pygame.quit()\n",
    "        init_fire_spread(data)\n",
    "        draw(screen,data)\n",
    "        plt.pause(0.1)\n",
    "        display.clear_output(wait=True)\n",
    "    pygame.quit()\n",
    "    arbre,arbre_brule,taux = humidite2(data,tx_humide)\n",
    "    print(\"Nb d'abre : \",arbre,\", Nombre d'arbre brulé : \",arbre_brule,\", Taux : \",taux)\n",
    "    return [arbre,arbre_brule,taux]"
   ]
  },
  {
   "cell_type": "code",
   "execution_count": 49,
   "metadata": {},
   "outputs": [
    {
     "name": "stdout",
     "output_type": "stream",
     "text": [
      "Nb d'abre :  92 , Nombre d'arbre brulé :  75 , Taux :  0.8152173913043478\n"
     ]
    },
    {
     "data": {
      "text/plain": [
       "[92, 75, 0.8152173913043478]"
      ]
     },
     "execution_count": 49,
     "metadata": {},
     "output_type": "execute_result"
    }
   ],
   "source": [
    "simulation_humidite(10,0.9,0.4)"
   ]
  },
  {
   "cell_type": "code",
   "execution_count": 63,
   "metadata": {},
   "outputs": [],
   "source": [
    "def mult_simulation_humidite(n, tx_foret, nb_exp):\n",
    "    liste = []\n",
    "    liste1 = []\n",
    "    x = np.arange(0.2,1.2,0.2)\n",
    "    for i in range(nb_exp):\n",
    "        for j in x:\n",
    "            liste1.append(simulation_humidite(n,tx_foret,j))\n",
    "        liste.append(liste1)\n",
    "        liste1=[]\n",
    "    y = np.sum(liste,axis=0)/len(liste)\n",
    "    y1 = []\n",
    "    y2 = []\n",
    "    y3 = []\n",
    "    for k in y:\n",
    "        y1.append(k[0])\n",
    "        y2.append(k[1])\n",
    "        y3.append(k[2])\n",
    "    fig, axs = plt.subplots(3)\n",
    "    fig.suptitle('Vertically stacked subplots')\n",
    "    axs[0].plot(x, y1,c='red') #Nombre d'arbres\n",
    "    axs[1].plot(x, y2,c='blue') #Nombre d'arbres brulés\n",
    "    axs[2].plot(x, y3,c='green') #Proportion Nombre d'arbres brulés/Nombre d'arbres\n",
    "    axs[0].set_xlabel(\"Nombre d'arbres\")\n",
    "    axs[1].set_xlabel(\"Nombre d'arbres brulés\")\n",
    "    axs[2].set_xlabel(\"Proportion Nombre d'arbres brulés/Nombre d'arbres\")\n",
    "    fig.tight_layout()\n",
    "    return 1\n",
    "    "
   ]
  },
  {
   "cell_type": "code",
   "execution_count": null,
   "metadata": {},
   "outputs": [],
   "source": [
    "mult_simulation_humidite(10,0.9,10)"
   ]
  },
  {
   "cell_type": "code",
   "execution_count": 119,
   "metadata": {},
   "outputs": [],
   "source": [
    "def fire_spreading2(forest):\n",
    "    if((len(np.where(forest==2)[0])==0)and(len(np.where(forest==3)[0])==0)):\n",
    "        init_fire_spread(forest)\n",
    "    x,y = np.where(forest==2)\n",
    "    for i in range(len(x)):\n",
    "        if (x[i]<len(forest)-1) and (y[i]<len(forest[0])-1) and (x[i]>0) and (y[i] > 0):\n",
    "            if forest[x[i]+1][y[i]]==1: #Droite\n",
    "                forest[x[i]+1][y[i]]=2 \n",
    "            if forest[x[i]-1][y[i]]==1: #Gauche\n",
    "                forest[x[i]-1][y[i]]=2\n",
    "            if forest[x[i]][y[i]+1]==1: #Haut\n",
    "                forest[x[i]][y[i]+1]=2\n",
    "            if forest[x[i]][y[i]-1]==1: #Bas\n",
    "                forest[x[i]][y[i]-1]=2\n",
    "            forest[x[i]][y[i]]=3\n",
    "        else:\n",
    "            forest[x[i]][y[i]]=3\n",
    "            \n",
    "    if(len(np.where(forest==2)[0])==0):\n",
    "        nb_arbre = len(np.where(forest==3)[0])+len(np.where(forest==1)[0])\n",
    "        nb_arbre_brule = len(np.where(forest==3)[0])\n",
    "        print(\"Nombre d'arbres total : \",nb_arbre,\"\\n Nombre d'arbres brulés : \",nb_arbre_brule,\"\\n Proportion nb_arbre_brule/nb_arbre : \",(nb_arbre_brule/nb_arbre)*100,\"%\")\n",
    "        taux = (nb_arbre_brule/nb_arbre)\n",
    "        return [nb_arbre,nb_arbre_brule,taux]"
   ]
  },
  {
   "cell_type": "code",
   "execution_count": 157,
   "metadata": {},
   "outputs": [],
   "source": [
    "def simulation(nb_arbre,tx_foret):\n",
    "    pygame.init()\n",
    "    screen = pygame.display.set_mode((500, 500))\n",
    "    screen.fill(\"white\")\n",
    "    pygame.display.set_caption(\"Propagation d'un feu de forêt\") \n",
    "    \n",
    "    data = create_database(nb_arbre,nb_arbre,tx_foret)\n",
    "    init_fire_spread(data)\n",
    "    while str(fire_spreading2(data))=='None':\n",
    "        for event in pygame.event.get():\n",
    "            if event.type == pygame.QUIT:\n",
    "               pygame.quit()\n",
    "        init_fire_spread(data)\n",
    "        draw(screen,data)\n",
    "        plt.pause(0.1)\n",
    "        display.clear_output(wait=True)\n",
    "    pygame.quit()\n",
    "    arbre,arbre_brule,taux = fire_spreading2(data)\n",
    "    print(\"Nb d'abre : \",arbre,\", Nombre d'arbre brulé : \",arbre_brule,\", Taux : \",taux)\n",
    "    return [arbre,arbre_brule,taux]"
   ]
  },
  {
   "cell_type": "code",
   "execution_count": 158,
   "metadata": {},
   "outputs": [],
   "source": [
    "def mult_simulation(n, nb_exp):\n",
    "    liste = []\n",
    "    liste1 = []\n",
    "    x = np.arange(0.1,1.1,0.1) # Densité\n",
    "    for i in range(nb_exp):\n",
    "        for j in x:\n",
    "            liste1.append(simulation(n,j))\n",
    "        liste.append(liste1)\n",
    "        liste1=[]\n",
    "    y = np.sum(liste,axis=0)/len(liste)\n",
    "    y1 = []\n",
    "    y2 = []\n",
    "    y3 = []\n",
    "    for k in y:\n",
    "        y1.append(k[0])\n",
    "        y2.append(k[1])\n",
    "        y3.append(k[2])\n",
    "    fig, axs = plt.subplots(3)\n",
    "    fig.suptitle('Vertically stacked subplots')\n",
    "    axs[0].plot(x, y1,c='red') #Nombre d'arbres\n",
    "    axs[1].plot(x, y2,c='blue') #Nombre d'arbres brulés\n",
    "    axs[2].plot(x, y3,c='green') #Proportion Nombre d'arbres brulés/Nombre d'arbres\n",
    "    axs[0].set_xlabel(\"Nombre d'arbres\")\n",
    "    axs[1].set_xlabel(\"Nombre d'arbres brulés\")\n",
    "    axs[2].set_xlabel(\"Proportion Nombre d'arbres brulés/Nombre d'arbres\")\n",
    "    fig.tight_layout()\n",
    "    return 1\n",
    "    "
   ]
  },
  {
   "cell_type": "code",
   "execution_count": 159,
   "metadata": {},
   "outputs": [
    {
     "name": "stdout",
     "output_type": "stream",
     "text": [
      "Nombre d'arbres total :  96 \n",
      " Nombre d'arbres brulés :  92 \n",
      " Proportion nb_arbre_brule/nb_arbre :  95.83333333333334 %\n",
      "Nombre d'arbres total :  96 \n",
      " Nombre d'arbres brulés :  92 \n",
      " Proportion nb_arbre_brule/nb_arbre :  95.83333333333334 %\n",
      "Nb d'abre :  96 , Nombre d'arbre brulé :  92 , Taux :  0.9583333333333334\n",
      "Nombre d'arbres total :  100 \n",
      " Nombre d'arbres brulés :  0 \n",
      " Proportion nb_arbre_brule/nb_arbre :  0.0 %\n",
      "Nombre d'arbres total :  100 \n",
      " Nombre d'arbres brulés :  0 \n",
      " Proportion nb_arbre_brule/nb_arbre :  0.0 %\n",
      "Nb d'abre :  100 , Nombre d'arbre brulé :  0 , Taux :  0.0\n"
     ]
    },
    {
     "data": {
      "text/plain": [
       "1"
      ]
     },
     "execution_count": 159,
     "metadata": {},
     "output_type": "execute_result"
    },
    {
     "data": {
      "image/png": "[encoded data removed]",
      "text/plain": [
       "<Figure size 432x288 with 3 Axes>"
      ]
     },
     "metadata": {
      "needs_background": "light"
     },
     "output_type": "display_data"
    }
   ],
   "source": [
    "mult_simulation(10,1)"
   ]
  },
  {
   "cell_type": "code",
   "execution_count": 162,
   "metadata": {},
   "outputs": [
    {
     "name": "stdout",
     "output_type": "stream",
     "text": [
      "Nombre d'arbres total :  100 \n",
      " Nombre d'arbres brulés :  0 \n",
      " Proportion nb_arbre_brule/nb_arbre :  0.0 %\n",
      "Nombre d'arbres total :  100 \n",
      " Nombre d'arbres brulés :  0 \n",
      " Proportion nb_arbre_brule/nb_arbre :  0.0 %\n",
      "Nb d'abre :  100 , Nombre d'arbre brulé :  0 , Taux :  0.0\n"
     ]
    },
    {
     "data": {
      "text/plain": [
       "[100, 0, 0.0]"
      ]
     },
     "execution_count": 162,
     "metadata": {},
     "output_type": "execute_result"
    }
   ],
   "source": [
    "simulation(10,1)"
   ]
  },
  {
   "cell_type": "code",
   "execution_count": null,
   "metadata": {},
   "outputs": [],
   "source": []
  },
  {
   "cell_type": "code",
   "execution_count": 67,
   "metadata": {},
   "outputs": [],
   "source": [
    "def humidite2_(forest, tx):\n",
    "    if((len(np.where(forest==2)[0])==0)and(len(np.where(forest==3)[0])==0)):\n",
    "        init_fire_spread(forest)\n",
    "    x,y = np.where(forest==2)\n",
    "    for i in range(len(x)):\n",
    "        reussite = np.random.choice([0,1,],size=1,p=[tx-0.2,1-tx+0.2])\n",
    "        if (x[i]<len(forest)-1) and (y[i]<len(forest[0])-1) and (x[i]>0) and (y[i] > 0) and reussite==1:\n",
    "            \n",
    "            if forest[x[i]+1][y[i]]==1: #Droite\n",
    "                forest[x[i]+1][y[i]]=2 \n",
    "            if forest[x[i]-1][y[i]]==1: #Gauche\n",
    "                forest[x[i]-1][y[i]]=2\n",
    "            if forest[x[i]][y[i]+1]==1: #Haut\n",
    "                forest[x[i]][y[i]+1]=2\n",
    "            if forest[x[i]][y[i]-1]==1: #Bas\n",
    "                forest[x[i]][y[i]-1]=2\n",
    "            forest[x[i]][y[i]]=3\n",
    "        else:\n",
    "            forest[x[i]][y[i]]=3\n",
    "            \n",
    "    if(len(np.where(forest==2)[0])==0):\n",
    "        nb_arbre = len(np.where(forest==3)[0])+len(np.where(forest==1)[0])\n",
    "        nb_arbre_brule = len(np.where(forest==3)[0])\n",
    "        tx = (nb_arbre_brule/nb_arbre)\n",
    "    \n",
    "        return (nb_arbre,nb_arbre_brule,tx)"
   ]
  },
  {
   "cell_type": "code",
   "execution_count": 74,
   "metadata": {},
   "outputs": [],
   "source": [
    "donnes = []\n",
    "\n",
    "def compte(foret):\n",
    "    res3 = 0\n",
    "    res1 = 0\n",
    "    for i in range(len(foret)):\n",
    "        res3 += foret[i].count(3)\n",
    "        res1 += foret[i].count(1)\n",
    "    return res1, res3\n",
    "\n",
    "\n",
    "\n",
    "def simulation_humidite_(nb_arbre,tx_foret,tx_humide):\n",
    "    tab = []\n",
    "    pygame.init()\n",
    "    screen = pygame.display.set_mode((500, 500))\n",
    "    screen.fill(\"white\")\n",
    "    pygame.display.set_caption(\"Propagation d'un feu de forêt\") \n",
    "    \n",
    "    data = create_database(nb_arbre,nb_arbre,tx_foret)\n",
    "    \n",
    "    while str(humidite2_(data,tx_humide))=='None':\n",
    "        for event in pygame.event.get():\n",
    "            if event.type == pygame.QUIT:\n",
    "               pygame.quit()\n",
    "        init_fire_spread(data)\n",
    "        draw(screen,data)\n",
    "        plt.pause(0.1)\n",
    "        display.clear_output(wait=True)\n",
    "        arbre,arbre_brule = compte(data)\n",
    "        tab.append([arbre,arbre_brule,taux])\n",
    "    pygame.quit()\n",
    "    arbre,arbre_brule,taux = humidite2_(data,tx_humide)\n",
    "    print(\"Nb d'abre : \",arbre,\", Nombre d'arbre brulé : \",arbre_brule,\", Taux : \",taux)\n",
    "    return tab"
   ]
  },
  {
   "cell_type": "code",
   "execution_count": 75,
   "metadata": {},
   "outputs": [
    {
     "ename": "AttributeError",
     "evalue": "'numpy.ndarray' object has no attribute 'count'",
     "output_type": "error",
     "traceback": [
      "\u001b[0;31m---------------------------------------------------------------------------\u001b[0m",
      "\u001b[0;31mAttributeError\u001b[0m                            Traceback (most recent call last)",
      "\u001b[0;32m<ipython-input-75-db4eb4467d5f>\u001b[0m in \u001b[0;36m<module>\u001b[0;34m()\u001b[0m\n\u001b[1;32m      6\u001b[0m     \u001b[0mplt\u001b[0m\u001b[0;34m.\u001b[0m\u001b[0mshow\u001b[0m\u001b[0;34m(\u001b[0m\u001b[0;34m)\u001b[0m\u001b[0;34m\u001b[0m\u001b[0;34m\u001b[0m\u001b[0m\n\u001b[1;32m      7\u001b[0m \u001b[0;34m\u001b[0m\u001b[0m\n\u001b[0;32m----> 8\u001b[0;31m \u001b[0mtrace\u001b[0m\u001b[0;34m(\u001b[0m\u001b[0;36m10\u001b[0m\u001b[0;34m,\u001b[0m\u001b[0;36m.8\u001b[0m\u001b[0;34m,\u001b[0m\u001b[0;36m.6\u001b[0m\u001b[0;34m)\u001b[0m\u001b[0;34m\u001b[0m\u001b[0;34m\u001b[0m\u001b[0m\n\u001b[0m",
      "\u001b[0;32m<ipython-input-75-db4eb4467d5f>\u001b[0m in \u001b[0;36mtrace\u001b[0;34m(nb_arbre, tx_foret, tx_humide)\u001b[0m\n\u001b[1;32m      1\u001b[0m \u001b[0;32mdef\u001b[0m \u001b[0mtrace\u001b[0m\u001b[0;34m(\u001b[0m\u001b[0mnb_arbre\u001b[0m\u001b[0;34m,\u001b[0m\u001b[0mtx_foret\u001b[0m\u001b[0;34m,\u001b[0m\u001b[0mtx_humide\u001b[0m\u001b[0;34m)\u001b[0m\u001b[0;34m:\u001b[0m\u001b[0;34m\u001b[0m\u001b[0;34m\u001b[0m\u001b[0m\n\u001b[0;32m----> 2\u001b[0;31m     \u001b[0mtab\u001b[0m \u001b[0;34m=\u001b[0m \u001b[0msimulation_humidite_\u001b[0m\u001b[0;34m(\u001b[0m\u001b[0mnb_arbre\u001b[0m\u001b[0;34m,\u001b[0m\u001b[0mtx_foret\u001b[0m\u001b[0;34m,\u001b[0m\u001b[0mtx_humide\u001b[0m\u001b[0;34m)\u001b[0m\u001b[0;34m\u001b[0m\u001b[0;34m\u001b[0m\u001b[0m\n\u001b[0m\u001b[1;32m      3\u001b[0m     \u001b[0mbrule\u001b[0m \u001b[0;34m=\u001b[0m \u001b[0;34m[\u001b[0m\u001b[0mtab\u001b[0m\u001b[0;34m[\u001b[0m\u001b[0mi\u001b[0m\u001b[0;34m]\u001b[0m\u001b[0;34m[\u001b[0m\u001b[0;36m1\u001b[0m\u001b[0;34m]\u001b[0m \u001b[0;32mfor\u001b[0m \u001b[0mi\u001b[0m \u001b[0;32min\u001b[0m \u001b[0mrange\u001b[0m\u001b[0;34m(\u001b[0m\u001b[0mlen\u001b[0m\u001b[0;34m(\u001b[0m\u001b[0mtab\u001b[0m\u001b[0;34m)\u001b[0m\u001b[0;34m)\u001b[0m\u001b[0;34m]\u001b[0m\u001b[0;34m\u001b[0m\u001b[0;34m\u001b[0m\u001b[0m\n\u001b[1;32m      4\u001b[0m     \u001b[0mprint\u001b[0m\u001b[0;34m(\u001b[0m\u001b[0mtab\u001b[0m\u001b[0;34m)\u001b[0m\u001b[0;34m\u001b[0m\u001b[0;34m\u001b[0m\u001b[0m\n\u001b[1;32m      5\u001b[0m     \u001b[0mplt\u001b[0m\u001b[0;34m.\u001b[0m\u001b[0mplot\u001b[0m\u001b[0;34m(\u001b[0m\u001b[0mrange\u001b[0m\u001b[0;34m(\u001b[0m\u001b[0;36m0\u001b[0m\u001b[0;34m,\u001b[0m\u001b[0mlen\u001b[0m\u001b[0;34m(\u001b[0m\u001b[0mtab\u001b[0m\u001b[0;34m)\u001b[0m\u001b[0;34m)\u001b[0m\u001b[0;34m,\u001b[0m\u001b[0mbrule\u001b[0m\u001b[0;34m)\u001b[0m\u001b[0;34m\u001b[0m\u001b[0;34m\u001b[0m\u001b[0m\n",
      "\u001b[0;32m<ipython-input-74-3a688525c072>\u001b[0m in \u001b[0;36msimulation_humidite_\u001b[0;34m(nb_arbre, tx_foret, tx_humide)\u001b[0m\n\u001b[1;32m     28\u001b[0m         \u001b[0mplt\u001b[0m\u001b[0;34m.\u001b[0m\u001b[0mpause\u001b[0m\u001b[0;34m(\u001b[0m\u001b[0;36m0.1\u001b[0m\u001b[0;34m)\u001b[0m\u001b[0;34m\u001b[0m\u001b[0;34m\u001b[0m\u001b[0m\n\u001b[1;32m     29\u001b[0m         \u001b[0mdisplay\u001b[0m\u001b[0;34m.\u001b[0m\u001b[0mclear_output\u001b[0m\u001b[0;34m(\u001b[0m\u001b[0mwait\u001b[0m\u001b[0;34m=\u001b[0m\u001b[0;32mTrue\u001b[0m\u001b[0;34m)\u001b[0m\u001b[0;34m\u001b[0m\u001b[0;34m\u001b[0m\u001b[0m\n\u001b[0;32m---> 30\u001b[0;31m         \u001b[0marbre\u001b[0m\u001b[0;34m,\u001b[0m\u001b[0marbre_brule\u001b[0m \u001b[0;34m=\u001b[0m \u001b[0mcompte\u001b[0m\u001b[0;34m(\u001b[0m\u001b[0mdata\u001b[0m\u001b[0;34m)\u001b[0m\u001b[0;34m\u001b[0m\u001b[0;34m\u001b[0m\u001b[0m\n\u001b[0m\u001b[1;32m     31\u001b[0m         \u001b[0mtab\u001b[0m\u001b[0;34m.\u001b[0m\u001b[0mappend\u001b[0m\u001b[0;34m(\u001b[0m\u001b[0;34m[\u001b[0m\u001b[0marbre\u001b[0m\u001b[0;34m,\u001b[0m\u001b[0marbre_brule\u001b[0m\u001b[0;34m,\u001b[0m\u001b[0mtaux\u001b[0m\u001b[0;34m]\u001b[0m\u001b[0;34m)\u001b[0m\u001b[0;34m\u001b[0m\u001b[0;34m\u001b[0m\u001b[0m\n\u001b[1;32m     32\u001b[0m     \u001b[0mpygame\u001b[0m\u001b[0;34m.\u001b[0m\u001b[0mquit\u001b[0m\u001b[0;34m(\u001b[0m\u001b[0;34m)\u001b[0m\u001b[0;34m\u001b[0m\u001b[0;34m\u001b[0m\u001b[0m\n",
      "\u001b[0;32m<ipython-input-74-3a688525c072>\u001b[0m in \u001b[0;36mcompte\u001b[0;34m(foret)\u001b[0m\n\u001b[1;32m      5\u001b[0m     \u001b[0mres1\u001b[0m \u001b[0;34m=\u001b[0m \u001b[0;36m0\u001b[0m\u001b[0;34m\u001b[0m\u001b[0;34m\u001b[0m\u001b[0m\n\u001b[1;32m      6\u001b[0m     \u001b[0;32mfor\u001b[0m \u001b[0mi\u001b[0m \u001b[0;32min\u001b[0m \u001b[0mrange\u001b[0m\u001b[0;34m(\u001b[0m\u001b[0mlen\u001b[0m\u001b[0;34m(\u001b[0m\u001b[0mforet\u001b[0m\u001b[0;34m)\u001b[0m\u001b[0;34m)\u001b[0m\u001b[0;34m:\u001b[0m\u001b[0;34m\u001b[0m\u001b[0;34m\u001b[0m\u001b[0m\n\u001b[0;32m----> 7\u001b[0;31m         \u001b[0mres3\u001b[0m \u001b[0;34m+=\u001b[0m \u001b[0mforet\u001b[0m\u001b[0;34m[\u001b[0m\u001b[0mi\u001b[0m\u001b[0;34m]\u001b[0m\u001b[0;34m.\u001b[0m\u001b[0mcount\u001b[0m\u001b[0;34m(\u001b[0m\u001b[0;36m3\u001b[0m\u001b[0;34m)\u001b[0m\u001b[0;34m\u001b[0m\u001b[0;34m\u001b[0m\u001b[0m\n\u001b[0m\u001b[1;32m      8\u001b[0m         \u001b[0mres1\u001b[0m \u001b[0;34m+=\u001b[0m \u001b[0mforet\u001b[0m\u001b[0;34m[\u001b[0m\u001b[0mi\u001b[0m\u001b[0;34m]\u001b[0m\u001b[0;34m.\u001b[0m\u001b[0mcount\u001b[0m\u001b[0;34m(\u001b[0m\u001b[0;36m1\u001b[0m\u001b[0;34m)\u001b[0m\u001b[0;34m\u001b[0m\u001b[0;34m\u001b[0m\u001b[0m\n\u001b[1;32m      9\u001b[0m     \u001b[0;32mreturn\u001b[0m \u001b[0mres1\u001b[0m\u001b[0;34m,\u001b[0m \u001b[0mres3\u001b[0m\u001b[0;34m\u001b[0m\u001b[0;34m\u001b[0m\u001b[0m\n",
      "\u001b[0;31mAttributeError\u001b[0m: 'numpy.ndarray' object has no attribute 'count'"
     ]
    }
   ],
   "source": [
    "def trace(nb_arbre,tx_foret,tx_humide):\n",
    "    tab = simulation_humidite_(nb_arbre,tx_foret,tx_humide)\n",
    "    brule = [tab[i][1] for i in range(len(tab))]\n",
    "    print(tab)\n",
    "    plt.plot(range(0,len(tab)),brule)\n",
    "    plt.show()\n",
    "\n",
    "trace(10,.8,.6)"
   ]
  },
  {
   "cell_type": "code",
   "execution_count": 113,
   "metadata": {},
   "outputs": [],
   "source": [
    "def compte(foret):\n",
    "    res3 = 0\n",
    "    res1 = 0\n",
    "    for i in range(len(foret)):\n",
    "        res3 += len(np.where(foret[i]==3))\n",
    "        res1 += len(np.where(foret[i]==1))\n",
    "    return res1, res3"
   ]
  },
  {
   "cell_type": "code",
   "execution_count": 112,
   "metadata": {},
   "outputs": [
    {
     "name": "stdout",
     "output_type": "stream",
     "text": [
      "(array([], dtype=int64),)\n",
      "(array([], dtype=int64),)\n",
      "(array([], dtype=int64),)\n",
      "(array([], dtype=int64),)\n"
     ]
    },
    {
     "data": {
      "text/plain": [
       "(4, 4)"
      ]
     },
     "execution_count": 112,
     "metadata": {},
     "output_type": "execute_result"
    }
   ],
   "source": [
    "compte([[0,1],[3,3],[2,1],[1,3]])\n"
   ]
  },
  {
   "cell_type": "code",
   "execution_count": null,
   "metadata": {},
   "outputs": [],
   "source": []
  }
 ],
 "metadata": {
  "kernelspec": {
   "display_name": "Python 3",
   "language": "python",
   "name": "python3"
  },
  "language_info": {
   "codemirror_mode": {
    "name": "ipython",
    "version": 3
   },
   "file_extension": ".py",
   "mimetype": "text/x-python",
   "name": "python",
   "nbconvert_exporter": "python",
   "pygments_lexer": "ipython3",
   "version": "3.7.3"
  }
 },
 "nbformat": 4,
 "nbformat_minor": 5
}
