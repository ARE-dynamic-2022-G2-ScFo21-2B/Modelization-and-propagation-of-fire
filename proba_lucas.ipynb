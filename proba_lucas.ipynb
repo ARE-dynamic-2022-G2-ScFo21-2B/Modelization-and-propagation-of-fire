{
 "cells": [
  {
   "cell_type": "code",
   "execution_count": null,
   "metadata": {},
   "outputs": [],
   "source": [
    "import numpy as np"
   ]
  },
  {
   "cell_type": "code",
   "execution_count": 22,
   "metadata": {},
   "outputs": [],
   "source": [
    "def generate_foret(data, proba_defaut):\n",
    "    \"\"\"\n",
    "    case 1: 1 si arbre, 0 si terre\n",
    "    case 2: None, type de l'arbre\n",
    "    case 3: probabilite de contaminer le point en haut\n",
    "    case 4: probabilite de contaminer le point en haut à droite\n",
    "    case 5: probabilite de contaminer le point à droite\n",
    "    case 6: probabilite de contaminer le point en bas à droite\n",
    "    case 7: probabilite de contaminer le point en bas\n",
    "    case 8: probabilite de contaminer le point en bas à gauche\n",
    "    case 9: probabilite de contaminer le point à gauche\n",
    "    case 10: probabilite de contaminer le point en haut à gauche\n",
    "    \"\"\"\n",
    "    p = proba_defaut\n",
    "    hauteur= len(data)\n",
    "    largeur =len(data[0])\n",
    "    foret = [[[data[j][i],None,None,None,None,None,None,None,None,None] for i in range(largeur)] for j in range(hauteur)]\n",
    "    for i in range(1,hauteur-1):\n",
    "        for j in range(1,largeur-1):\n",
    "            if foret[i][j][0] == 0:\n",
    "                foret[i][j] = [foret[i][j][0],foret[i][j][1],0,0,0,0,0,0,0,0]\n",
    "            else:\n",
    "                foret[i][j] = [foret[i][j][0],foret[i][j][1],p,p,p,p,p,p,p,p]\n",
    "    for j in range(1,largeur-1):\n",
    "        foret[0][j] = [foret[0][j][0],foret[0][j][1],None,None,p,p,p,p,p,None]\n",
    "        foret[-1][j] = [foret[-1][j][0],foret[-1][j][1],p,p,p,None,None,None,p,p]\n",
    "    for i in range(1,hauteur-1):\n",
    "        foret[i][0] = [foret[i][-1][0],foret[i][0][1],p,p,p,p,p,None,None,None]\n",
    "        foret[i][-1] = [foret[i][-1][0],foret[i][0][1],p,None,None,None,p,p,p,p]\n",
    "    foret[0][0] = [foret[0][0][0],foret[0][0][1],None,None,p,p,p,None,None,None] #case en haut à gauche\n",
    "    foret[0][-1] = [foret[0][-1][0],foret[0][-1][1],None,None,None,None,p,p,p,None] #case en haut à droite\n",
    "    foret[-1][0] = [foret[-1][0][0],foret[-1][0][1],p,p,p,None,None,None,None,None,None] #case en bas à gauche\n",
    "    foret[-1][-1] = [foret[0][0][0],foret[0][0][1],p,None,None,None,None,None,p,p] #case en bas à droite\n",
    "    return foret\n",
    "        \n",
    "    \n",
    "#generate_foret([[1,2,3,4],[4,6,5,5],[4,3,9,4]],1)"
   ]
  },
  {
   "cell_type": "code",
   "execution_count": 25,
   "metadata": {},
   "outputs": [],
   "source": [
    "def vent(foret, direction, force):\n",
    "    \"\"\"\n",
    "    8 directions: 1 en haut, 2 en haut à droite, 3 à droite, 4 en bas à droite, 5 en bas, 6 en bas à gauche, 7 à gauche, 8 en haut à gauche\n",
    "    force: float entre 0 et 1\n",
    "    \"\"\"\n",
    "    \n",
    "    hauteur = len(foret)\n",
    "    largeur = len(foret[0])\n",
    "    if direction == 1:\n",
    "        tab_proba = [force,force/2,0,0,0,0,0,force/2]\n",
    "    elif direction == 2:\n",
    "        tab_proba = [force/2,force,force/2,0,0,0,0,0]\n",
    "    elif direction == 3:\n",
    "        tab_proba = [0,force/2,force,force/2,0,0,0,0]\n",
    "    elif dircetion == 4:\n",
    "        tab_proba = [0,0,force/2,force,force/2,0,0,0]\n",
    "    elif direction == 5:\n",
    "        tab_proba = [0,0,0,force/2,force,force/2,0,0]\n",
    "    elif direction == 6:\n",
    "        tab_proba = [0,0,0,0,force/2,force,force/2,0]\n",
    "    elif direction == 7:\n",
    "        tab_proba = [0,0,0,0,0,force/2,force,force/2]\n",
    "    elif direction == 8:\n",
    "        tab_proba = [force/2,0,0,0,0,0,force/2,force]\n",
    "    for i in range(hauteur):\n",
    "        for j in range(largeur):\n",
    "            for x in range(8):\n",
    "                if foret[i][j][x+2] != None:\n",
    "                    foret[i][j][x+2] += tab_proba[x]\n",
    "                    if foret[i][j][x+2] > 1:\n",
    "                        foret[i][j][x+2] = 1\n",
    "    return foret\n",
    "    \n",
    "#foret = vent(generate_foret([[1,2,3,4],[4,6,5,5],[4,3,9,4]],0),2,0.5)\n",
    "#foret\n"
   ]
  },
  {
   "cell_type": "code",
   "execution_count": null,
   "metadata": {},
   "outputs": [],
   "source": []
  }
 ],
 "metadata": {
  "kernelspec": {
   "display_name": "Python 3",
   "language": "python",
   "name": "python3"
  },
  "language_info": {
   "codemirror_mode": {
    "name": "ipython",
    "version": 3
   },
   "file_extension": ".py",
   "mimetype": "text/x-python",
   "name": "python",
   "nbconvert_exporter": "python",
   "pygments_lexer": "ipython3",
   "version": "3.8.3"
  }
 },
 "nbformat": 4,
 "nbformat_minor": 4
}
