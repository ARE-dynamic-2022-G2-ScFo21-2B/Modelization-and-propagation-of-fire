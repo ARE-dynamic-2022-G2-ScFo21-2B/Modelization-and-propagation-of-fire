{
 "cells": [
  {
   "cell_type": "markdown",
   "id": "b98c9941",
   "metadata": {},
   "source": [
    "## Importation des librairies "
   ]
  },
  {
   "cell_type": "code",
   "execution_count": 1,
   "id": "7d27c5f6",
   "metadata": {
    "scrolled": true
   },
   "outputs": [
    {
     "name": "stdout",
     "output_type": "stream",
     "text": [
      "pygame 2.1.2 (SDL 2.0.18, Python 3.10.2)\n",
      "Hello from the pygame community. https://www.pygame.org/contribute.html\n"
     ]
    }
   ],
   "source": [
    "import matplotlib.pyplot as plt\n",
    "import numpy as np\n",
    "# import pandas as pd\n",
    "from IPython import display\n",
    "import pygame"
   ]
  },
  {
   "cell_type": "code",
   "execution_count": 3,
   "id": "05db46d6",
   "metadata": {
    "scrolled": true
   },
   "outputs": [],
   "source": [
    "# Idée : Propagation du feu dans une forêt\n",
    "# 0 = Terre\n",
    "# 1 = Arbre\n",
    "# 2 = Feu\n",
    "# 3 = Mort"
   ]
  },
  {
   "cell_type": "markdown",
   "id": "8ad15b32",
   "metadata": {},
   "source": [
    "## Corps :"
   ]
  },
  {
   "cell_type": "markdown",
   "id": "532b635d",
   "metadata": {},
   "source": [
    "### Initialiser une forêt de taille n :"
   ]
  },
  {
   "cell_type": "code",
   "execution_count": 4,
   "id": "7f00a34a",
   "metadata": {
    "scrolled": true
   },
   "outputs": [],
   "source": [
    "def create_database(x,y,p):\n",
    "    return np.random.choice([0,1],size=(x,y),p=[1-p,p])"
   ]
  },
  {
   "cell_type": "code",
   "execution_count": 5,
   "id": "d18604f0",
   "metadata": {
    "scrolled": true
   },
   "outputs": [
    {
     "data": {
      "text/plain": [
       "array([[1, 1, 0, 1, 0, 1, 0, 1, 1, 1],\n",
       "       [1, 1, 0, 1, 1, 1, 1, 1, 1, 1],\n",
       "       [1, 1, 1, 1, 1, 1, 1, 1, 1, 1],\n",
       "       [1, 1, 1, 1, 1, 1, 1, 1, 1, 1],\n",
       "       [0, 1, 1, 1, 1, 1, 1, 1, 1, 1],\n",
       "       [1, 1, 1, 1, 1, 1, 1, 1, 1, 1],\n",
       "       [0, 1, 1, 1, 1, 1, 1, 1, 1, 1],\n",
       "       [0, 1, 1, 1, 1, 1, 0, 1, 0, 1],\n",
       "       [1, 1, 0, 1, 1, 1, 1, 1, 1, 1],\n",
       "       [1, 1, 1, 1, 1, 1, 1, 0, 1, 1]])"
      ]
     },
     "execution_count": 5,
     "metadata": {},
     "output_type": "execute_result"
    }
   ],
   "source": [
    "data = create_database(10,10,.9)\n",
    "data\n"
   ]
  },
  {
   "cell_type": "markdown",
   "id": "e8bcd70e",
   "metadata": {},
   "source": [
    "### Afficher une forêt :"
   ]
  },
  {
   "cell_type": "code",
   "execution_count": 6,
   "id": "af95b00b",
   "metadata": {
    "scrolled": true
   },
   "outputs": [],
   "source": [
    "def aff_forest(x,y,forest):\n",
    "    x1,y1 = np.where(forest==1)# Foret x \n",
    "    x2,y2 = np.where(forest==0) # Terre x\n",
    "    x3,y3 = np.where(forest==2) # Feu x\n",
    "    x4,y4 = np.where(forest==3)    \n",
    "    plt.title(\"Propagation du feu dans une forêt\",fontweight=\"bold\",fontname=\"Arial\",fontsize=\"15\")\n",
    "    plt.scatter(x1,y1,c='green',marker='.',s=30)\n",
    "    plt.scatter(x2,y2,c='grey',marker='.',s=30)\n",
    "    plt.scatter(x3,y3,c='red',marker='.',s=30)\n",
    "    plt.scatter(x4,y4,c='black',marker='.',s=30)\n",
    "    return 0"
   ]
  },
  {
   "cell_type": "code",
   "execution_count": 7,
   "id": "e1e7b86d",
   "metadata": {
    "scrolled": true
   },
   "outputs": [],
   "source": [
    "data[5][5]=2"
   ]
  },
  {
   "cell_type": "code",
   "execution_count": 8,
   "id": "053e896e",
   "metadata": {
    "scrolled": true
   },
   "outputs": [
    {
     "data": {
      "text/plain": [
       "0"
      ]
     },
     "execution_count": 8,
     "metadata": {},
     "output_type": "execute_result"
    },
    {
     "data": {
      "image/png": "[encoded data removed]",
      "text/plain": [
       "<Figure size 432x288 with 1 Axes>"
      ]
     },
     "metadata": {
      "needs_background": "light"
     },
     "output_type": "display_data"
    }
   ],
   "source": [
    "aff_forest(100,100,data)"
   ]
  },
  {
   "cell_type": "code",
   "execution_count": 9,
   "id": "d91d5a7e",
   "metadata": {
    "scrolled": true
   },
   "outputs": [
    {
     "data": {
      "text/plain": [
       "array([[1, 1, 0, 1, 0, 1, 0, 1, 1, 1],\n",
       "       [1, 1, 0, 1, 1, 1, 1, 1, 1, 1],\n",
       "       [1, 1, 1, 1, 1, 1, 1, 1, 1, 1],\n",
       "       [1, 1, 1, 1, 1, 1, 1, 1, 1, 1],\n",
       "       [0, 1, 1, 1, 1, 1, 1, 1, 1, 1],\n",
       "       [1, 1, 1, 1, 1, 2, 1, 1, 1, 1],\n",
       "       [0, 1, 1, 1, 1, 1, 1, 1, 1, 1],\n",
       "       [0, 1, 1, 1, 1, 1, 0, 1, 0, 1],\n",
       "       [1, 1, 0, 1, 1, 1, 1, 1, 1, 1],\n",
       "       [1, 1, 1, 1, 1, 1, 1, 0, 1, 1]])"
      ]
     },
     "execution_count": 9,
     "metadata": {},
     "output_type": "execute_result"
    }
   ],
   "source": [
    "data"
   ]
  },
  {
   "cell_type": "markdown",
   "id": "e27aa9e3",
   "metadata": {},
   "source": [
    "### Actualiser la forêt :"
   ]
  },
  {
   "cell_type": "code",
   "execution_count": 10,
   "id": "4c38a567",
   "metadata": {
    "scrolled": true
   },
   "outputs": [],
   "source": [
    "def init_fire_spread(forest):\n",
    "    if(len(np.unique(forest))==2):\n",
    "        x,y=np.where(forest==1)\n",
    "        random_i = np.random.randint(0,len(x),1)\n",
    "        i_x = int(x[random_i])\n",
    "        i_y = int(y[random_i])\n",
    "        forest[i_x][i_y]=2     \n",
    "    return forest"
   ]
  },
  {
   "cell_type": "code",
   "execution_count": 11,
   "id": "e4d8ccde",
   "metadata": {
    "scrolled": true
   },
   "outputs": [
    {
     "data": {
      "text/plain": [
       "array([[1, 1, 0, 1, 0, 1, 0, 1, 1, 1],\n",
       "       [1, 1, 0, 1, 1, 1, 1, 1, 1, 1],\n",
       "       [1, 1, 1, 1, 1, 1, 1, 1, 1, 1],\n",
       "       [1, 1, 1, 1, 1, 1, 1, 1, 1, 1],\n",
       "       [0, 1, 1, 1, 1, 1, 1, 1, 1, 1],\n",
       "       [1, 1, 1, 1, 1, 2, 1, 1, 1, 1],\n",
       "       [0, 1, 1, 1, 1, 1, 1, 1, 1, 1],\n",
       "       [0, 1, 1, 1, 1, 1, 0, 1, 0, 1],\n",
       "       [1, 1, 0, 1, 1, 1, 1, 1, 1, 1],\n",
       "       [1, 1, 1, 1, 1, 1, 1, 0, 1, 1]])"
      ]
     },
     "execution_count": 11,
     "metadata": {},
     "output_type": "execute_result"
    }
   ],
   "source": [
    "init_fire_spread(data)"
   ]
  },
  {
   "cell_type": "code",
   "execution_count": 12,
   "id": "d50eabb2",
   "metadata": {
    "scrolled": true
   },
   "outputs": [],
   "source": [
    "def fire_spreading(forest):\n",
    "    if((len(np.where(forest==2)[0])==0)and(len(np.where(forest==3)[0])==0)):\n",
    "        init_fire_spread(forest)\n",
    "    x,y = np.where(forest==2)\n",
    "    for i in range(len(x)):\n",
    "        if (x[i]<len(forest)-1) and (y[i]<len(forest[0])-1) and (x[i]>0) and (y[i] > 0):\n",
    "            if forest[x[i]+1][y[i]]==1: #Droite\n",
    "                forest[x[i]+1][y[i]]=2 \n",
    "            if forest[x[i]-1][y[i]]==1: #Gauche\n",
    "                forest[x[i]-1][y[i]]=2\n",
    "            if forest[x[i]][y[i]+1]==1: #Haut\n",
    "                forest[x[i]][y[i]+1]=2\n",
    "            if forest[x[i]][y[i]-1]==1: #Bas\n",
    "                forest[x[i]][y[i]-1]=2\n",
    "            forest[x[i]][y[i]]=3\n",
    "        else:\n",
    "            forest[x[i]][y[i]]=3\n",
    "            \n",
    "    if(len(np.where(forest==2)[0])==0):\n",
    "        nb_arbre = len(np.where(forest==3)[0])+len(np.where(forest==1)[0])\n",
    "        nb_arbre_brule = len(np.where(forest==3)[0])\n",
    "        return (nb_arbre,nb_arbre_brule,(nb_arbre_brule/nb_arbre))"
   ]
  },
  {
   "cell_type": "code",
   "execution_count": 13,
   "id": "f62066d6",
   "metadata": {
    "scrolled": true
   },
   "outputs": [],
   "source": [
    "fire_spreading(data)"
   ]
  },
  {
   "cell_type": "markdown",
   "id": "efe356b9",
   "metadata": {},
   "source": [
    "### Simuler la propagation :"
   ]
  },
  {
   "cell_type": "code",
   "execution_count": 14,
   "id": "aa63fbab",
   "metadata": {
    "scrolled": true
   },
   "outputs": [],
   "source": [
    "def launch(x,y,p):\n",
    "    forest = create_database(x,y,p)\n",
    "    print(\"Pourcentage d'arbre : \",p*100,\"%\")\n",
    "    while str(fire_spreading(forest))=='None':\n",
    "        init_fire_spread(forest)\n",
    "        aff_forest(x,y,forest)\n",
    "        plt.pause(0.01)\n",
    "        display.clear_output(wait=True)\n",
    "    nb_arbre,nb_abrule,prop_ab = fire_spreading(forest)\n",
    "    print(\"Nombre d'arbres total : \",nb_arbre,\"\\n Nombre d'arbres brulés : \",nb_abrule,\"\\n Proportion nb_arbre_brule/nb_arbre : \",prop_ab*100,\"%\")\n",
    "    print(\"Pourcentage d'arbre : \",p*100,\"%\")\n",
    "    return aff_forest(x,y,forest)"
   ]
  },
  {
   "cell_type": "code",
   "execution_count": 76,
   "id": "c99363ef",
   "metadata": {
    "scrolled": false
   },
   "outputs": [
    {
     "name": "stdout",
     "output_type": "stream",
     "text": [
      "Nombre d'arbres total :  1998 \n",
      " Nombre d'arbres brulés :  1960 \n",
      " Proportion nb_arbre_brule/nb_arbre :  0.980980980980981 %\n",
      "Pourcentage d'arbre :  80.0 %\n"
     ]
    },
    {
     "data": {
      "text/plain": [
       "0"
      ]
     },
     "execution_count": 76,
     "metadata": {},
     "output_type": "execute_result"
    },
    {
     "data": {
      "image/png": "[encoded data removed]",
      "text/plain": [
       "<Figure size 432x288 with 1 Axes>"
      ]
     },
     "metadata": {
      "needs_background": "light"
     },
     "output_type": "display_data"
    }
   ],
   "source": [
    "launch(50,50,.8)"
   ]
  },
  {
   "cell_type": "code",
   "execution_count": 31,
   "id": "31542fb9",
   "metadata": {},
   "outputs": [],
   "source": [
    "def draw(screen,data):\n",
    "    x=0\n",
    "    y=0\n",
    "    unit=500/len(data)\n",
    "    for i in range(len(data)):\n",
    "        for j in range(len(data[0])):\n",
    "            if(data[i][j]==1):\n",
    "                pygame.draw.rect(screen,(71, 252, 80), pygame.Rect(x, y, x+unit, y+unit))\n",
    "                x+=unit\n",
    "            if(data[i][j]==0):\n",
    "                pygame.draw.rect(screen,(247, 213, 143), pygame.Rect(x, y, x+unit, y+unit))\n",
    "                x+=unit  \n",
    "            if(data[i][j]==2):\n",
    "                pygame.draw.rect(screen,(255, 64, 67), pygame.Rect(x, y, x+unit, y+unit))\n",
    "                x+=unit\n",
    "            if(data[i][j]==3):\n",
    "                pygame.draw.rect(screen,(33, 13, 4), pygame.Rect(x, y, x+unit, y+unit))\n",
    "                x+=unit\n",
    "        y+=unit\n",
    "        x=0\n",
    "\n",
    "    pygame.display.flip()"
   ]
  },
  {
   "cell_type": "code",
   "execution_count": 21,
   "id": "887ffced",
   "metadata": {
    "scrolled": true
   },
   "outputs": [
    {
     "name": "stdout",
     "output_type": "stream",
     "text": [
      "Nombre d'arbres total :  2219 \n",
      " Nombre d'arbres brulés :  2190 \n",
      " Proportion nb_arbre_brule/nb_arbre :  98.69310500225326 %\n"
     ]
    }
   ],
   "source": [
    "pygame.init()\n",
    "\n",
    "screen = pygame.display.set_mode((500, 500))\n",
    "screen.fill(\"white\")\n",
    "pygame.display.set_caption(\"Propagation d'un feu de forêt\")\n",
    "\n",
    "data = create_database(50,50,.9)\n",
    "\n",
    "while fire_spreading(data)!=0:\n",
    "    for event in pygame.event.get():\n",
    "        if event.type == pygame.QUIT:\n",
    "           pygame.quit()\n",
    "    init_fire_spread(data)\n",
    "    draw(data)\n",
    "    plt.pause(0.1)\n",
    "    display.clear_output(wait=True)\n",
    "pygame.quit()"
   ]
  },
  {
   "cell_type": "code",
   "execution_count": 15,
   "id": "e8a174dd",
   "metadata": {},
   "outputs": [],
   "source": [
    "def humidite(forest, tx):\n",
    "    if((len(np.where(forest==2)[0])==0)and(len(np.where(forest==3)[0])==0)):\n",
    "        init_fire_spread(forest)\n",
    "    x,y = np.where(forest==2)\n",
    "    for i in range(len(x)):\n",
    "        reussite = np.random.choice([0,1,],size=1,p=[tx,1-tx])\n",
    "        if (x[i]<len(forest)-1) and (y[i]<len(forest[0])-1) and (x[i]>0) and (y[i] > 0) and reussite==1:\n",
    "            \n",
    "            if forest[x[i]+1][y[i]]==1: #Droite\n",
    "                forest[x[i]+1][y[i]]=2 \n",
    "            if forest[x[i]-1][y[i]]==1: #Gauche\n",
    "                forest[x[i]-1][y[i]]=2\n",
    "            if forest[x[i]][y[i]+1]==1: #Haut\n",
    "                forest[x[i]][y[i]+1]=2\n",
    "            if forest[x[i]][y[i]-1]==1: #Bas\n",
    "                forest[x[i]][y[i]-1]=2\n",
    "            forest[x[i]][y[i]]=3\n",
    "        else:\n",
    "            forest[x[i]][y[i]]=3\n",
    "            \n",
    "    if(len(np.where(forest==2)[0])==0):\n",
    "        nb_arbre = len(np.where(forest==3)[0])+len(np.where(forest==1)[0])\n",
    "        nb_arbre_brule = len(np.where(forest==3)[0])\n",
    "        print(\"Nombre d'arbres total : \",nb_arbre,\"\\n Nombre d'arbres brulés : \",nb_arbre_brule,\"\\n Proportion nb_arbre_brule/nb_arbre : \",(nb_arbre_brule/nb_arbre)*100,\"%\")\n",
    "        return 0"
   ]
  },
  {
   "cell_type": "code",
   "execution_count": 20,
   "id": "bf9c2586",
   "metadata": {},
   "outputs": [],
   "source": [
    "def vent(forest, direction):\n",
    "    if((len(np.where(forest==2)[0])==0)and(len(np.where(forest==3)[0])==0)):\n",
    "        init_fire_spread(forest)\n",
    "    x,y = np.where(forest==2)\n",
    "    for i in range(len(x)):\n",
    "        if (x[i]<len(forest)-1) and (y[i]<len(forest[0])-1) and (x[i]>0) and (y[i] > 0):\n",
    "            reussite_direction = np.random.choice([0,1,],size=1,p=[0.1,0.9])\n",
    "            reussite_direction_inverse = np.random.choice([0,1,],size=1,p=[0.5,0.5])\n",
    "            reussite_cote = np.random.choice([0,1,],size=1,p=[0.9,0.1])\n",
    "            print(\"Reussite 1 : \",reussite_direction, \" Reussite 2 : \", reussite_cote, \" Reussite 3 : \",reussite_direction_inverse)\n",
    "            if(direction==\"bas\"):\n",
    "                print(\"Cas 1\")\n",
    "                if forest[x[i]+1][y[i]]==1 and reussite_direction==1: #Droite\n",
    "                    forest[x[i]+1][y[i]]=2\n",
    "                if forest[x[i]-1][y[i]]==1 and reussite_direction_inverse==1: #Gauche\n",
    "                    forest[x[i]-1][y[i]]=2\n",
    "                if forest[x[i]][y[i]+1]==1 and reussite_cote==1: #Haut\n",
    "                    forest[x[i]][y[i]+1]=2\n",
    "                if forest[x[i]][y[i]-1]==1 and reussite_cote==1: #Bas\n",
    "                    forest[x[i]][y[i]-1]=2\n",
    "                if forest[x[i]+1][y[i]+1]==1 and reussite_direction==1: # Haut-droite\n",
    "                    forest[x[i]+1][y[i]+1]=2\n",
    "                if forest[x[i]+1][y[i]-1]==1 and reussite_direction==1: # Bas-droite\n",
    "                    forest[x[i]+1][y[i]-1]=2\n",
    "                forest[x[i]][y[i]]=3\n",
    "            if(direction==\"\"):\n",
    "                print(\"Cas 2\")\n",
    "                if forest[x[i]+1][y[i]]==1 and reussite_direction_inverse==1: #Droite\n",
    "                    forest[x[i]+1][y[i]]=2 \n",
    "                if forest[x[i]-1][y[i]]==1 and reussite_direction==1: #Gauche\n",
    "                    forest[x[i]-1][y[i]]=2\n",
    "                if forest[x[i]][y[i]+1]==1 and reussite_cote==1: #Haut\n",
    "                    forest[x[i]][y[i]+1]=2\n",
    "                if forest[x[i]][y[i]-1]==1 and reussite_cote==1: #Bas\n",
    "                    forest[x[i]][y[i]-1]=2\n",
    "                if forest[x[i]-1][y[i]+1]==1 and reussite_direction==1: # Haut-gauche\n",
    "                    forest[x[i]-1][y[i]+1]=2\n",
    "                if forest[x[i]-1][y[i]-1]==1 and reussite_direction==1: # Bas-gauche\n",
    "                    forest[x[i]-1][y[i]-1]=2\n",
    "                forest[x[i]][y[i]]=3\n",
    "            if(direction==\"droite\"):\n",
    "                print(\"Cas 3\")\n",
    "                if forest[x[i]+1][y[i]]==1 and reussite_cote==1: #Droite\n",
    "                    forest[x[i]+1][y[i]]=2 \n",
    "                if forest[x[i]-1][y[i]]==1 and reussite_cote==1: #Gauche\n",
    "                    forest[x[i]-1][y[i]]=2\n",
    "                if forest[x[i]][y[i]+1]==1 and reussite_direction==1: #Haut\n",
    "                    forest[x[i]][y[i]+1]=2\n",
    "                if forest[x[i]][y[i]-1]==1 and reussite_direction_inverse==1: #Bas\n",
    "                    forest[x[i]][y[i]-1]=2\n",
    "                if forest[x[i]+1][y[i]+1]==1 and reussite_direction==1: # Haut-droite\n",
    "                    forest[x[i]+1][y[i]+1]=2\n",
    "                if forest[x[i]-1][y[i]+1]==1 and reussite_direction==1: # Haut-gauche\n",
    "                    forest[x[i]-1][y[i]+1]=2\n",
    "                forest[x[i]][y[i]]=3\n",
    "            if(direction==\"gauche\"):\n",
    "                print(\"Cas 4\")\n",
    "                if forest[x[i]+1][y[i]]==1 and reussite_cote==1: #Droite\n",
    "                    forest[x[i]+1][y[i]]=2 \n",
    "                if forest[x[i]-1][y[i]]==1 and reussite_cote==1: #Gauche\n",
    "                    forest[x[i]-1][y[i]]=2\n",
    "                if forest[x[i]][y[i]+1]==1 and reussite_direction_inverse==1:\n",
    "                   forest[x[i]][y[i]+1]=2 \n",
    "                if forest[x[i]][y[i]-1]==1 and reussite_direction==1:\n",
    "                   forest[x[i]][y[i]-1]=2 \n",
    "                if forest[x[i]+1][y[i]-1]==1 and reussite_direction==1: #Bas-droite\n",
    "                    forest[x[i]+1][y[i]-1]=2\n",
    "                if forest[x[i]-1][y[i]-1]==1 and reussite_direction==1: #Bas-gauche\n",
    "                    forest[x[i]-1][y[i]-1]=2\n",
    "                \n",
    "                forest[x[i]][y[i]]=3\n",
    "        else:\n",
    "            forest[x[i]][y[i]]=3\n",
    "            \n",
    "    if(len(np.where(forest==2)[0])==0):\n",
    "        nb_arbre = len(np.where(forest==3)[0])+len(np.where(forest==1)[0])\n",
    "        nb_arbre_brule = len(np.where(forest==3)[0])\n",
    "        print(\"Nombre d'arbres total : \",nb_arbre,\"\\n Nombre d'arbres brulés : \",nb_arbre_brule,\"\\n Proportion nb_arbre_brule/nb_arbre : \",(nb_arbre_brule/nb_arbre)*100,\"%\")\n",
    "        return 0"
   ]
  },
  {
   "cell_type": "code",
   "execution_count": 109,
   "id": "ca36b8c7",
   "metadata": {},
   "outputs": [
    {
     "data": {
      "text/plain": [
       "[array([1]),\n",
       " array([1]),\n",
       " array([1]),\n",
       " array([1]),\n",
       " array([1]),\n",
       " array([0]),\n",
       " array([1]),\n",
       " array([0]),\n",
       " array([1]),\n",
       " array([1])]"
      ]
     },
     "execution_count": 109,
     "metadata": {},
     "output_type": "execute_result"
    }
   ],
   "source": [
    "reussite = [np.random.choice([0,1,],size=1,p=[.1,.9]) for i in range(10)]\n",
    "reussite"
   ]
  },
  {
   "cell_type": "code",
   "execution_count": 41,
   "id": "cf8b35a5",
   "metadata": {},
   "outputs": [
    {
     "name": "stdout",
     "output_type": "stream",
     "text": [
      "Nombre d'arbres total :  2276 \n",
      " Nombre d'arbres brulés :  1888 \n",
      " Proportion nb_arbre_brule/nb_arbre :  82.95254833040421 %\n"
     ]
    }
   ],
   "source": [
    "pygame.init()\n",
    "\n",
    "screen = pygame.display.set_mode((500, 500))\n",
    "screen.fill(\"white\")\n",
    "pygame.display.set_caption(\"Propagation d'un feu de forêt\")\n",
    "\n",
    "data = create_database(50,50,.9)\n",
    "\n",
    "while humidite(data,.3)!=0:\n",
    "    for event in pygame.event.get():\n",
    "        if event.type == pygame.QUIT:\n",
    "           pygame.quit()\n",
    "    init_fire_spread(data)\n",
    "    draw(data)\n",
    "    plt.pause(0.1)\n",
    "    display.clear_output(wait=True)\n",
    "pygame.quit()"
   ]
  },
  {
   "cell_type": "code",
   "execution_count": 25,
   "id": "b527b8d4",
   "metadata": {},
   "outputs": [
    {
     "name": "stdout",
     "output_type": "stream",
     "text": [
      "Reussite 1 :  [1]  Reussite 2 :  [0]  Reussite 3 :  [0]\n",
      "Cas 4\n",
      "Nombre d'arbres total :  2217 \n",
      " Nombre d'arbres brulés :  1424 \n",
      " Proportion nb_arbre_brule/nb_arbre :  64.23094271538115 %\n"
     ]
    }
   ],
   "source": [
    "pygame.init()\n",
    "\n",
    "screen = pygame.display.set_mode((500, 500))\n",
    "screen.fill(\"white\")\n",
    "pygame.display.set_caption(\"Propagation d'un feu de forêt\")\n",
    "\n",
    "data = create_database(50,50,.9)\n",
    "\n",
    "while vent(data,\"gauche\")!=0:\n",
    "    for event in pygame.event.get():\n",
    "        if event.type == pygame.QUIT:\n",
    "           pygame.quit()\n",
    "    init_fire_spread(data)\n",
    "    draw(data)\n",
    "    plt.pause(0.1)\n",
    "    display.clear_output(wait=True)\n",
    "pygame.quit()"
   ]
  },
  {
   "cell_type": "code",
   "execution_count": 32,
   "id": "ac67ac7f",
   "metadata": {},
   "outputs": [],
   "source": [
    "def simulation1(n,p):\n",
    "    \n",
    "    pygame.init()\n",
    "    screen = pygame.display.set_mode((500, 500))\n",
    "    screen.fill(\"white\")\n",
    "    pygame.display.set_caption(\"Propagation d'un feu de forêt\")\n",
    "    \n",
    "    forest = create_database(n,n,p)\n",
    "    \n",
    "    while str(fire_spreading(forest))=='None':\n",
    "        for event in pygame.event.get():\n",
    "            if event.type == pygame.QUIT:\n",
    "               pygame.quit()\n",
    "        init_fire_spread(data)\n",
    "        draw(screen,data)\n",
    "        plt.pause(0.1)\n",
    "        display.clear_output(wait=True)\n",
    "    pygame.quit()\n",
    "    nb_arbre,nb_arbre_brule,propor=fire_spreading(forest)\n",
    "    return [nb_arbre,nb_arbre_brule,propor]"
   ]
  },
  {
   "cell_type": "code",
   "execution_count": 34,
   "id": "beb91554",
   "metadata": {},
   "outputs": [
    {
     "data": {
      "text/plain": [
       "[92, 86, 0.9347826086956522]"
      ]
     },
     "execution_count": 34,
     "metadata": {},
     "output_type": "execute_result"
    }
   ],
   "source": [
    "simulation1(10,0.9)"
   ]
  },
  {
   "cell_type": "code",
   "execution_count": 44,
   "id": "e23d34d9",
   "metadata": {},
   "outputs": [],
   "source": [
    "def simulation_mult1(n,p,nb):\n",
    "    liste = []\n",
    "    for i in range(nb):\n",
    "        liste.append(simulation1(n,p))\n",
    "    return np.sum(liste,axis=0)"
   ]
  },
  {
   "cell_type": "code",
   "execution_count": 45,
   "id": "c13aba3c",
   "metadata": {},
   "outputs": [
    {
     "data": {
      "text/plain": [
       "array([897.        , 591.        ,   6.56569527])"
      ]
     },
     "execution_count": 45,
     "metadata": {},
     "output_type": "execute_result"
    }
   ],
   "source": [
    "simulation_mult1(10,0.9,10)"
   ]
  },
  {
   "cell_type": "code",
   "execution_count": 76,
   "id": "8d5439cf",
   "metadata": {},
   "outputs": [],
   "source": [
    "def graph1(n,p,nb):\n",
    "    x = np.arange(1,nb+1,1)\n",
    "    y1=[]\n",
    "    y2=[]\n",
    "    y3=[]\n",
    "    for i in x:\n",
    "        liste = simulation_mult1(n,p,i)\n",
    "        y1.append(liste[0])\n",
    "        y2.append(liste[1])\n",
    "        y3.append(liste[2])\n",
    "    fig, axs = plt.subplots(3)\n",
    "    fig.suptitle('Vertically stacked subplots')\n",
    "    axs[0].plot(x, y1) #Nombre d'arbre\n",
    "    axs[1].plot(x, y2) #Nombre d'arbre brulé\n",
    "    axs[2].plot(x, y3) #Proporion arbre brulé/nombre d'arbre total\n",
    "    return 0"
   ]
  },
  {
   "cell_type": "code",
   "execution_count": 78,
   "id": "6d833d5d",
   "metadata": {},
   "outputs": [
    {
     "data": {
      "text/plain": [
       "0"
      ]
     },
     "execution_count": 78,
     "metadata": {},
     "output_type": "execute_result"
    },
    {
     "data": {
      "image/png": "[encoded data removed]",
      "text/plain": [
       "<Figure size 432x288 with 3 Axes>"
      ]
     },
     "metadata": {
      "needs_background": "light"
     },
     "output_type": "display_data"
    }
   ],
   "source": [
    "graph1(10,0.9,10)"
   ]
  },
  {
   "cell_type": "code",
   "execution_count": null,
   "id": "a7f0a0d8",
   "metadata": {},
   "outputs": [],
   "source": []
  }
 ],
 "metadata": {
  "kernelspec": {
   "display_name": "Python 3 (ipykernel)",
   "language": "python",
   "name": "python3"
  },
  "language_info": {
   "codemirror_mode": {
    "name": "ipython",
    "version": 3
   },
   "file_extension": ".py",
   "mimetype": "text/x-python",
   "name": "python",
   "nbconvert_exporter": "python",
   "pygments_lexer": "ipython3",
   "version": "3.10.2"
  }
 },
 "nbformat": 4,
 "nbformat_minor": 5
}
